{
 "cells": [
  {
   "cell_type": "markdown",
   "metadata": {},
   "source": [
    "<h1 align=\"center\"> Computation for Physicists </h1>\n",
    "<h2 align=\"center\"> <em>Linear Least Squares</em> </h2>\n",
    "<h2 align=\"center\" > <a href=\"mailto:duan@unm.edu\">Dr. Duan</a> (UNM) </h2>"
   ]
  },
  {
   "cell_type": "markdown",
   "metadata": {
    "slideshow": {
     "slide_type": "slide"
    }
   },
   "source": [
    "# LU Factorization\n",
    "- The basic technique of solving $\\mathbf{A}\\mathbf{x}=\\mathbf{y}$ is _Gaussian elimination_.\n",
    "\n",
    "- Pivoting is usually employed to achieve better stability.\n",
    "\n",
    "- Gaussian elimination is mathematically equivalent to the _LU factorization_:\n",
    "$$\\mathbf{A}\n",
    "=\\mathbf{L}\\mathbf{U}\n",
    "=\\begin{bmatrix}\n",
    "1 & 0 & \\cdots & 0 \\\\\n",
    "l_{10} & 1 & \\cdots &0 \\\\\n",
    "\\vdots & \\vdots & \\ddots & \\vdots \\\\\n",
    "l_{n-1,0} & l_{n-1,1} & \\cdots & 1\n",
    "\\end{bmatrix}\n",
    "\\begin{bmatrix} u_{00} & u_{01} & \\cdots & u_{0,n-1} \\\\\n",
    "0 & u_{11} & \\cdots & u_{1,n-1} \\\\\n",
    "\\vdots & \\vdots & \\ddots & \\vdots \\\\\n",
    "0 & 0 & \\cdots & u_{n-1,n-1}\\end{bmatrix}.$$\n",
    "The linear systems with the same $\\mathbf{A}$ but different $\\mathbf{y}$'s can be solved efficiently with explicit LU factorization."
   ]
  },
  {
   "cell_type": "markdown",
   "metadata": {
    "slideshow": {
     "slide_type": "subslide"
    }
   },
   "source": [
    "- More efficient algorithms may be implemented if $\\mathbf{A}$ has some special properties. (Check the documentation of [`scipy.linalg`](https://docs.scipy.org/doc/scipy/reference/linalg.html).)\n",
    "    - Symmetric: $\\mathbf{A}=\\mathbf{A}^T$\n",
    "    - Positive definite: $\\mathbf{x}^T\\mathbf{A}\\mathbf{x}>0$ for all $\\mathbf{x}\\neq\\mathbf{0}$\n",
    "    - Banded: $a_{ij}=0$ if $|i-j|>\\beta$, where $\\beta$ is the bandwidth\n",
    "    - Sparse: most $a_{ij}$ are 0.\n",
    "\n",
    "- For example, _Cholesky factorization_ can be performed if $\\mathbf{A}$ is symmetric and positive definite: $\\mathbf{A}=\\mathbf{L}\\mathbf{L}^T$, where $\\mathbf{L}$ is a lower triagnular matrix with positive diagonal entries."
   ]
  },
  {
   "cell_type": "markdown",
   "metadata": {
    "slideshow": {
     "slide_type": "slide"
    }
   },
   "source": [
    "# Homework Problem\n",
    "- Think how the LU factorization can be used to compute the determinent and inverse of a nonsingular matrix.\n",
    "- Implement a simple function to compute the inverse of an arbitrary square matrix using  `lu_factor()` and `lu_solve()` in `scipy.linalg`. Document and validate the function.\n",
    "- Hint: For $\\mathbf{A}\\mathbf{X}=\\mathbf{1}$, you can treat $\\mathbf{X}$ and $\\mathbf{1}$ as collections of column vectors. `numpy.eye(n)` returns a $n\\times n$ identity matrix."
   ]
  },
  {
   "cell_type": "code",
   "execution_count": 1,
   "metadata": {
    "slideshow": {
     "slide_type": "subslide"
    }
   },
   "outputs": [
    {
     "data": {
      "text/plain": [
       "True"
      ]
     },
     "execution_count": 1,
     "metadata": {},
     "output_type": "execute_result"
    }
   ],
   "source": [
    "import numpy as np\n",
    "import scipy.linalg as la\n",
    "from numpy.random import random\n",
    "\n",
    "import homework.hw5 as hw5\n",
    "\n",
    "n = 10 # problem size\n",
    "a = random(n*n).reshape((n,n))\n",
    "np.allclose(la.inv(a), hw5.matinv(a)) # check if the elements of two matrices are close"
   ]
  },
  {
   "cell_type": "markdown",
   "metadata": {
    "slideshow": {
     "slide_type": "slide"
    }
   },
   "source": [
    "# Linear Least Squares\n",
    "- The linear system $\\mathbf{A}\\mathbf{x}=\\mathbf{y}$ is _overdetermined_ if the size of vector $\\mathbf{y}$ is larger than the size of vector $\\mathbf{x}$.\n",
    "\n",
    "- The _least squares_ solution $\\mathbf{x}$ to $\\mathbf{A}\\mathbf{x}\\simeq\\mathbf{y}$ minimizes the 2-norm of the residual vector $\\mathbf{r}=\\mathbf{y}-\\mathbf{A}\\mathbf{x}$.\n",
    "\n",
    "- Least squares can be used to fit function $f(t, \\mathbf{x}) = \\sum_{i=0}^{n-1} x_i \\phi_i(t)$ to data $(t_i, y_i)$ ($i=0,1,\\ldots,m-1$) by minimizing the 2-norm of:\n",
    "$$\\mathbf{r}\n",
    "=\\begin{bmatrix}y_0 \\\\ y_1 \\\\ \\vdots \\end{bmatrix}\n",
    "-\\begin{bmatrix}\n",
    "\\phi_0(t_0) & \\phi_1(t_0) & \\cdots \\\\\n",
    "\\phi_0(t_1) & \\phi_1(t_1) & \\cdots \\\\\n",
    "\\vdots & \\vdots & \\ddots\\end{bmatrix}\n",
    "\\begin{bmatrix} x_0 \\\\ x_1 \\\\ \\vdots \\end{bmatrix}\n",
    ".$$"
   ]
  },
  {
   "cell_type": "markdown",
   "metadata": {
    "slideshow": {
     "slide_type": "subslide"
    }
   },
   "source": [
    "- SciPy provides `linalg.lstsq()` to find the least squares solution."
   ]
  },
  {
   "cell_type": "code",
   "execution_count": 2,
   "metadata": {
    "slideshow": {
     "slide_type": "-"
    }
   },
   "outputs": [],
   "source": [
    "m = 20 # number of points\n",
    "n = 3 # number of fitting parameters\n",
    "t = np.linspace(0, 10, m) # m points in [0, 10]\n",
    "y = 1 + 2*t + t**2 + (random(m)-0.5) # noisy data points\n",
    "A = np.empty((m, n)) # construct the matrix for a polynomial fit\n",
    "A[:,0] = 1.; A[:,1] = t; A[:,2] = t**2\n",
    "x, *_ = la.lstsq(A, y) # *_ catches the rest of the tuple"
   ]
  },
  {
   "cell_type": "code",
   "execution_count": 3,
   "metadata": {
    "slideshow": {
     "slide_type": "subslide"
    }
   },
   "outputs": [
    {
     "data": {
      "image/png": "[encoded data removed]",
      "text/plain": [
       "<Figure size 432x288 with 1 Axes>"
      ]
     },
     "metadata": {
      "needs_background": "light"
     },
     "output_type": "display_data"
    }
   ],
   "source": [
    "import matplotlib.pyplot as plt\n",
    "\n",
    "plt.plot(t, y, 'o', label='data')\n",
    "f = lambda z: x[0] + x[1]*z + x[2]*z**2 # fitting function\n",
    "plt.plot(t, f(t), label=f'$y={x[0]:.1f}+{x[1]:.1f}* t+{x[2]:.1f}* t^2$')\n",
    "plt.legend()\n",
    "plt.xlabel('$t$')\n",
    "plt.ylabel('$y$')\n",
    "plt.show()"
   ]
  },
  {
   "cell_type": "markdown",
   "metadata": {
    "slideshow": {
     "slide_type": "slide"
    }
   },
   "source": [
    "# Normal Equation\n",
    "- Usually a $m$-vector $\\mathbf{y}\\notin\\mathrm{span}(\\mathbf{A})=\\{\\mathbf{A}\\mathbf{x}:\\mathbf{x}\\in\\mathbb{R}^n\\}$ when $m>n$.\n",
    "\n",
    "- $\\Vert\\mathbf{r}\\Vert_2^2\n",
    "=\\mathbf{y}^T\\mathbf{y}-2\\mathbf{x}^T\\mathbf{A}^T\\mathbf{y}\n",
    "+\\mathbf{x}^T\\mathbf{A}^T\\mathbf{A}\\mathbf{x}$ is the smallest when its derivative with repsect to $\\mathbf{x}$ is 0, which gives the _normal equation_:\n",
    "$$\\mathbf{A}^T\\mathbf{A}\\mathbf{x}\n",
    "=\\mathbf{A}^T\\mathbf{y}.$$\n",
    "\n",
    "- Linear least squares problem always has solution.\n",
    "\n",
    "- The solution is unique if the $m\\times n$ matrix $\\mathbf{A}$ has rank $n$, i.e. its column vectors are linearly independent.\n",
    "\n",
    "- Because $\\mathbf{A}^T\\mathbf{A}$ is symmetric and positive definite, the normal equation can be solved by the Cholesky factorization: $\\mathbf{A}^T\\mathbf{A}=\\mathbf{L}\\mathbf{L}^T$."
   ]
  },
  {
   "cell_type": "code",
   "execution_count": 4,
   "metadata": {
    "scrolled": true,
    "slideshow": {
     "slide_type": "subslide"
    }
   },
   "outputs": [
    {
     "name": "stdout",
     "output_type": "stream",
     "text": [
      "least squares: x =  [0.93243874 1.98606727 1.0023226 ]\n",
      "normal equation: x =  [0.93243874 1.98606727 1.0023226 ]\n"
     ]
    }
   ],
   "source": [
    "x1 = la.cho_solve(la.cho_factor(A.T @ A), A.T @ y) # A.T is np.transpose(A)\n",
    "print(\"least squares: x = \", x)\n",
    "print(\"normal equation: x = \", x1)"
   ]
  },
  {
   "cell_type": "markdown",
   "metadata": {
    "slideshow": {
     "slide_type": "fragment"
    }
   },
   "source": [
    "- The normal equation method can be unstable because $\\mathbf{A}^T\\mathbf{A}$ may have large condition number and rounding error."
   ]
  },
  {
   "cell_type": "markdown",
   "metadata": {
    "slideshow": {
     "slide_type": "slide"
    }
   },
   "source": [
    "# QR Factorization\n",
    "\n",
    "- In QR factorization, \n",
    "$$\\mathbf{A}= \\mathbf{Q}\\begin{bmatrix}\\mathbf{R}\\\\\\mathbf{0}\\end{bmatrix}\n",
    "=\\begin{bmatrix}\\mathbf{Q}_1\\ \\mathbf{Q_2}\\end{bmatrix}\n",
    "\\begin{bmatrix}\\mathbf{R}\\\\\\mathbf{0}\\end{bmatrix} = \\mathbf{Q}_1\\mathbf{R},$$\n",
    "where $\\mathbf{Q}$ is a $m\\times m$ orthogonal matrix ($\\mathbf{Q}^T\\mathbf{Q}=\\mathbf{1}$), and $\\mathbf{R}$ is a $n\\times n$ upper triangular matrix.\n",
    "The column vectors of $\\mathbf{Q}_1$ form the orthonormal basis of $\\mathrm{span}(\\mathbf{A})$, and those of $\\mathbf{Q}_2$ are the rest of the orthonormal basis vectors of $\\mathbb{R}^m$ that are orthogonal to $\\mathrm{span}(\\mathbf{A})$."
   ]
  },
  {
   "cell_type": "markdown",
   "metadata": {
    "slideshow": {
     "slide_type": "subslide"
    }
   },
   "source": [
    "- With the QR factorization, the linear least squares problem becomes\n",
    "$$\\mathbf{Q}^T\\mathbf{A}\\mathbf{x} \n",
    "= \\begin{bmatrix}\\mathbf{R}\\\\\\mathbf{0}\\end{bmatrix}\\mathbf{x}\n",
    "\\simeq \\begin{bmatrix}\\mathbf{z}_1\\\\ \\mathbf{z}_2\\end{bmatrix}\n",
    "= \\mathbf{Q}^T \\mathbf{y}.$$\n",
    "The least squares solution $\\mathbf{x}$ can be solved from $\\mathbf{R}\\mathbf{x}=\\mathbf{z}_1 = \\mathbf{Q}_1^T y$ by backward substitution."
   ]
  },
  {
   "cell_type": "markdown",
   "metadata": {
    "slideshow": {
     "slide_type": "subslide"
    }
   },
   "source": [
    "- A Givens rotation can annhilate one component in a column vector. For example,\n",
    "$$\\begin{bmatrix}\n",
    "1 & 0 & 0 & 0 \\\\\n",
    "0 & c & s & 0 \\\\\n",
    "0 & -s & c & 0 \\\\\n",
    "0 & 0 & 0 & 1 \\end{bmatrix}\n",
    "\\begin{bmatrix} a_1 \\\\ a_2 \\\\ a_3 \\\\ 0 \\end{bmatrix}\n",
    "= \\begin{bmatrix} a_1 \\\\ a'_2 \\\\ 0 \\\\ 0 \\end{bmatrix},$$\n",
    "where \n",
    "$$c = \\frac{a_2}{\\sqrt{a_2^2+a_3^2}}\n",
    "\\qquad\\mathrm{and}\\qquad\n",
    "s = \\frac{a_3}{\\sqrt{a_2^2+a_3^2}}.$$\n",
    "\n",
    "- One can write the orthogonal matrix $\\mathbf{Q}^T$ as the product of a series of Givens rotations so that $\\mathbf{Q}^T\\mathbf{A} = \\begin{bmatrix}\\mathbf{R}\\\\\\mathbf{0}\\end{bmatrix}$."
   ]
  },
  {
   "cell_type": "markdown",
   "metadata": {
    "slideshow": {
     "slide_type": "subslide"
    }
   },
   "source": [
    "- Most numerical routines use the _Householder transformation_ which is more efficient than Givens rotations.\n",
    "\n",
    "- Explicity QR factorization can be formed using [`scipy.linalg.qr()`](https://docs.scipy.org/doc/scipy/reference/generated/scipy.linalg.qr.html#scipy.linalg.qr) if several least squares problems with the same matrix $\\mathbf{A}$ need to be solved."
   ]
  },
  {
   "cell_type": "code",
   "execution_count": 5,
   "metadata": {},
   "outputs": [
    {
     "name": "stdout",
     "output_type": "stream",
     "text": [
      "least squares: x =  [0.93243874 1.98606727 1.0023226 ]\n",
      "explicity QR: x =  [0.93243874 1.98606727 1.0023226 ]\n"
     ]
    }
   ],
   "source": [
    "Q1, R = la.qr(A, mode='economic') # Q1(m,n) and R(n,n)\n",
    "x2 = la.solve_triangular(R, Q1.T @ y) # R is upper triangular\n",
    "print(\"least squares: x = \", x)\n",
    "print(\"explicity QR: x = \", x2)"
   ]
  },
  {
   "cell_type": "markdown",
   "metadata": {
    "slideshow": {
     "slide_type": "slide"
    }
   },
   "source": [
    "# Singular Value Decomposition (SVD)\n",
    "- Because a real $m\\times n$ matrix $\\mathbf{A}$ maps an arbitrary vector $\\mathbb{R}^n$ to a vector in $\\mathbb{R}^m$, it can be decomposed as\n",
    "$$\\mathbf{A} = \\mathbf{U} \\mathbf{\\Sigma}\\mathbf{V}^T\n",
    "= \\sum_{i=0}^{n-1}\\sigma_i \\mathbf{u}_i\\mathbf{v}_i^T,$$\n",
    "where $\\mathbf{u}_i$ and $\\mathbf{v}_i$ are the column vectors of the $m\\times m$ orthogonal matrix $\\mathbf{U}$ and the $n\\times n$ orthogonal matrix $\\mathbf{V}$, respectively, and $\\mathbf{\\Sigma}$ is a $m\\times n$ diagonal matrix, and its diagonal entries\n",
    "$$\\sigma_0\\geq \\sigma_1 \\geq \\cdots \\geq \\sigma_{n-1}\\geq 0$$\n",
    "are called the _singular values_ of $\\mathbf{A}$."
   ]
  },
  {
   "cell_type": "markdown",
   "metadata": {
    "slideshow": {
     "slide_type": "subslide"
    }
   },
   "source": [
    "- SVD has many applications:\n",
    "    - $\\mathrm{rank}(\\mathbf{A}) = $ number of nonzero singular values.\n",
    "    \n",
    "    - $\\Vert\\mathbf{A}\\Vert_2 = \\sigma_\\max$ (Euclidean matrix norm).\n",
    "    \n",
    "    - $\\mathrm{cond}_2(\\mathbf{A})=\\sigma_\\max / \\sigma_\\min$ (Euclidean condition number).\n",
    "    \n",
    "- The _minimum norm solution_ to $\\mathbf{A}\\mathbf{x}\\simeq \\mathbf{y}$ is given by\n",
    "$$\\mathbf{x}=\\sum_{i=0}^{k-1} \\sigma_i^{-1}\\, (\\mathbf{u}_i^T\\cdot\\mathbf{y})\\,\\mathbf{v}_i,$$\n",
    "where $k$ is the number of nonzero singular values of $\\mathbf{A}$. In practice, small signular values can be dropped from the summation for more stability.\n",
    "\n",
    "- SVD is more robust than the QR factorization (with the Householder transformation), but is much more expensive."
   ]
  },
  {
   "cell_type": "markdown",
   "metadata": {
    "slideshow": {
     "slide_type": "subslide"
    }
   },
   "source": [
    "- [`scipy.linalg.svd()`](https://docs.scipy.org/doc/scipy/reference/generated/scipy.linalg.svd.html#scipy.linalg.svd) performs the SVD decomposition."
   ]
  },
  {
   "cell_type": "code",
   "execution_count": 6,
   "metadata": {},
   "outputs": [
    {
     "name": "stdout",
     "output_type": "stream",
     "text": [
      "(20, 20) (3,) (3, 3)\n",
      "least squares: x =  [0.93243874 1.98606727 1.0023226 ]\n",
      "SVD: x =  [0.93243874 1.98606727 1.0023226 ]\n"
     ]
    }
   ],
   "source": [
    "U, s, Vt = la.svd(A)\n",
    "print(U.shape, s.shape, Vt.shape)\n",
    "# compute the least squares solution using SVD\n",
    "x3 = np.zeros(n) \n",
    "smin = 1e-5*s[0] # minimum signular value to include\n",
    "for i in range(n):\n",
    "    if s[i] < smin: break\n",
    "    x3 += ((U[:,i] @ y) / s[i]) * Vt[i,:]\n",
    "\n",
    "print(\"least squares: x = \", x)\n",
    "print(\"SVD: x = \", x3)"
   ]
  },
  {
   "cell_type": "markdown",
   "metadata": {
    "slideshow": {
     "slide_type": "slide"
    }
   },
   "source": [
    "# Homework\n",
    "- The _pseudoinverse_ of a $m\\times n$ real matrix $\\mathbf{A}$ can be written as\n",
    "$$\\mathbf{A}^+ = \\mathbf{V}\\mathbf{\\Sigma}^+\\mathbf{U}^T,$$\n",
    "where $\\mathbf{\\Sigma}^+$ is a $n\\times m$ diagonal matrix with the first $k$ diagonal values being $1/\\sigma_i$ ($\\sigma_i\\neq0)$ and the rest being 0. \n",
    "\n",
    "- Write a simple function to compute the pseudoinverse of an arbitrary real matrix. Validate that it produces the inverse of a nonsingular square matrix. Show how it may be used to solve the least squares problem. You may find `numpy.outer()` useful."
   ]
  }
 ],
 "metadata": {
  "celltoolbar": "Slideshow",
  "kernelspec": {
   "display_name": "Python 3",
   "language": "python",
   "name": "python3"
  },
  "language_info": {
   "codemirror_mode": {
    "name": "ipython",
    "version": 3
   },
   "file_extension": ".py",
   "mimetype": "text/x-python",
   "name": "python",
   "nbconvert_exporter": "python",
   "pygments_lexer": "ipython3",
   "version": "3.8.5"
  }
 },
 "nbformat": 4,
 "nbformat_minor": 2
}
