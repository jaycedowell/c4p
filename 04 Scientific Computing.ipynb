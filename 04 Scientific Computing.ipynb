{
 "cells": [
  {
   "cell_type": "markdown",
   "metadata": {},
   "source": [
    "<h1 align=\"center\"> Computation for Physicists </h1>\n",
    "<h2 align=\"center\"> <em> Introduction to Scientific Computing</em> </h2>\n",
    "<h2 align=\"center\" > <a href=\"mailto:duan@unm.edu\">Dr. Duan</a> (UNM) </h2>"
   ]
  },
  {
   "cell_type": "markdown",
   "metadata": {
    "slideshow": {
     "slide_type": "slide"
    }
   },
   "source": [
    "# Homework\n",
    "- The $n$th Fibonacci number is defined as $F_n = F_{n-1} + F_{n-2}$ with $F_0=0$ and $F_1=1$. Define a function to compute an arbitrary Fibonacci number.\n",
    "- Document the function properly and check if the input is valid.\n",
    "- Store the computed Fibonacci numbers for reuse."
   ]
  },
  {
   "cell_type": "code",
   "execution_count": null,
   "metadata": {
    "slideshow": {
     "slide_type": "fragment"
    }
   },
   "outputs": [],
   "source": [
    "from homework.hw3 import * # import everything in homework/hw3.py\n",
    "\n",
    "for n in range(15):\n",
    "        print(Fibonacci(n), end=\", \")\n",
    "print('...')"
   ]
  },
  {
   "cell_type": "code",
   "execution_count": null,
   "metadata": {
    "slideshow": {
     "slide_type": "subslide"
    }
   },
   "outputs": [],
   "source": [
    "Fibonacci(-1)"
   ]
  },
  {
   "cell_type": "code",
   "execution_count": null,
   "metadata": {
    "slideshow": {
     "slide_type": "subslide"
    }
   },
   "outputs": [],
   "source": [
    "Fibonacci?"
   ]
  },
  {
   "cell_type": "code",
   "execution_count": null,
   "metadata": {
    "slideshow": {
     "slide_type": "fragment"
    }
   },
   "outputs": [],
   "source": [
    "_fib_seq? "
   ]
  },
  {
   "cell_type": "markdown",
   "metadata": {
    "slideshow": {
     "slide_type": "subslide"
    }
   },
   "source": [
    "- By default, a variable with a name starting with an underscore is not imported by `import *` to avoid name conflict."
   ]
  },
  {
   "cell_type": "code",
   "execution_count": null,
   "metadata": {
    "slideshow": {
     "slide_type": "fragment"
    }
   },
   "outputs": [],
   "source": [
    "import homework.hw3 as hw3\n",
    "hw3._fib_seq "
   ]
  },
  {
   "cell_type": "markdown",
   "metadata": {
    "slideshow": {
     "slide_type": "fragment"
    }
   },
   "source": [
    "- The statements in the module are executed only once at the first import.\n",
    "- Use `importlib.reload()` to have a fresh reload of the module."
   ]
  },
  {
   "cell_type": "markdown",
   "metadata": {
    "slideshow": {
     "slide_type": "slide"
    }
   },
   "source": [
    "# Numbers in a Computer\n",
    "- Most computers store numbers in the binary (base 2) format.\n",
    "- An $n$-bit unsigned binary integer can be written as\n",
    "$$(d_{n-1}\\cdots d_1 d_0)_2 = d_{n-1}\\cdot 2^{n-1}  + \\cdots + d_{1}\\cdot 2 + d_0,$$\n",
    "where $d_i\\in\\{0,1\\}$. "
   ]
  },
  {
   "cell_type": "code",
   "execution_count": null,
   "metadata": {
    "slideshow": {
     "slide_type": "fragment"
    }
   },
   "outputs": [],
   "source": [
    "0b110 == 4+2, 0b1000 == 2**3, 0b111 == 2**3 - 1 # binary format starts with 0b"
   ]
  },
  {
   "cell_type": "markdown",
   "metadata": {
    "slideshow": {
     "slide_type": "subslide"
    }
   },
   "source": [
    "- See [NumPy documentation](https://numpy.org/devdocs/user/basics.types.html) for the list of its supported data types.\n",
    "- Some of the integer types supported by NumPy:\n",
    "    - `numpy.uint32`: unsigned 32-bit integer, $0,1,2,\\ldots,2^{32}-1$.\n",
    "    - `numpy.uint64`: unsigned 64-bit integer, $0,1,2,\\ldots,2^{64}-1$.\n",
    "    - `numpy.int32`: signed 32-bit integer, $-2^{31}$ to $2^{31}-1$.\n",
    "    - `numpy.int64`: signed 64-bit integer, $-2^{63}$ to $2^{63}-1$."
   ]
  },
  {
   "cell_type": "code",
   "execution_count": null,
   "metadata": {
    "slideshow": {
     "slide_type": "fragment"
    }
   },
   "outputs": [],
   "source": [
    "import numpy as np\n",
    "a = np.array([2], dtype=np.int32) # use dtype to specify data type\n",
    "2**31, a**31, (-a)**31 # be careful with the overflow"
   ]
  },
  {
   "cell_type": "code",
   "execution_count": null,
   "metadata": {
    "slideshow": {
     "slide_type": "fragment"
    }
   },
   "outputs": [],
   "source": [
    "np.iinfo(np.int32)"
   ]
  },
  {
   "cell_type": "markdown",
   "metadata": {
    "slideshow": {
     "slide_type": "subslide"
    }
   },
   "source": [
    "- Floating-point (FP) numbers are written as\n",
    "$$x = \\pm \\left(d_0 + \\frac{d_1}{2} + \\frac{d_2}{2^2} + \\cdots + \\frac{d_{p-1}}{2^{p-1}}\\right)\\times 2^E,$$\n",
    "where the integral numbers $p$ and $E$ are the  _precision_ and _exponent_, respectively. $d_0d_1\\cdots d_{p-1}$ is called the _mantissa_, and $d_1\\cdots d_{p-1}$ is called the _fraction_."
   ]
  },
  {
   "cell_type": "markdown",
   "metadata": {
    "slideshow": {
     "slide_type": "subslide"
    }
   },
   "source": [
    "- An example of the layout of a 32-bit FP number:\n",
    "    - $-126\\leq E \\leq 127$ with $-126$ and $127$ represented by all 0's and all 1's in the exponent bits, respectively.\n",
    "    - A _normalized number_ always has $d_0=1$ which is not stored.\n",
    "    \n",
    "![32-bit floating point](https://upload.wikimedia.org/wikipedia/commons/thumb/d/d2/Float_example.svg/800px-Float_example.svg.png) \n",
    "(Figure Credit: WikiMedia)\n",
    "    "
   ]
  },
  {
   "cell_type": "code",
   "execution_count": null,
   "metadata": {
    "slideshow": {
     "slide_type": "fragment"
    }
   },
   "outputs": [],
   "source": [
    "(1+1/4)*2**-3 # E=0 when the exponent is 0b01111111 (127)"
   ]
  },
  {
   "cell_type": "markdown",
   "metadata": {
    "slideshow": {
     "slide_type": "subslide"
    }
   },
   "source": [
    "- Some of the FP types supported by Numpy:\n",
    "    - `numpy.float32`: single precision (SP) or 32-bit FP number ($p=24$, $-126\\leq E\\leq127$).\n",
    "    - `numpy.float64` (default): double precision (DP) or 64-bit FP number ($p=53$, $-1022\\leq E\\leq1023$).\n",
    "    - `numpy.complex64`: two SP numbers.\n",
    "    - `numpy.complex128`: two DP numbers.\n",
    "- Numpy also defines `numpy.inf` (infinity) and `numpy.nan` (not a number)."
   ]
  },
  {
   "cell_type": "code",
   "execution_count": null,
   "metadata": {
    "slideshow": {
     "slide_type": "fragment"
    }
   },
   "outputs": [],
   "source": [
    "np.array([2**127], dtype=np.float32) *2, np.array([0.])/0."
   ]
  },
  {
   "cell_type": "code",
   "execution_count": null,
   "metadata": {
    "slideshow": {
     "slide_type": "subslide"
    }
   },
   "outputs": [],
   "source": [
    "np.finfo(np.float32)"
   ]
  },
  {
   "cell_type": "code",
   "execution_count": null,
   "metadata": {
    "slideshow": {
     "slide_type": "fragment"
    }
   },
   "outputs": [],
   "source": [
    "np.finfo(np.float64)"
   ]
  },
  {
   "cell_type": "markdown",
   "metadata": {
    "slideshow": {
     "slide_type": "subslide"
    }
   },
   "source": [
    "- Don't compare FP numbers with `==`."
   ]
  },
  {
   "cell_type": "code",
   "execution_count": null,
   "metadata": {
    "slideshow": {
     "slide_type": "fragment"
    }
   },
   "outputs": [],
   "source": [
    "0.3/3 == 0.1 "
   ]
  },
  {
   "cell_type": "code",
   "execution_count": null,
   "metadata": {
    "slideshow": {
     "slide_type": "fragment"
    }
   },
   "outputs": [],
   "source": [
    "print(f'{0.3:.17f}, {0.1:.17f}')"
   ]
  },
  {
   "cell_type": "markdown",
   "metadata": {},
   "source": [
    "See, e.g., [https://realpython.com/python-formatted-output](https://realpython.com/python-formatted-output) for a tutorial on formatting a Python string."
   ]
  },
  {
   "cell_type": "code",
   "execution_count": null,
   "metadata": {
    "slideshow": {
     "slide_type": "fragment"
    }
   },
   "outputs": [],
   "source": [
    "abs(0.3/3 - 0.1) <= 1e-5"
   ]
  },
  {
   "cell_type": "markdown",
   "metadata": {
    "slideshow": {
     "slide_type": "slide"
    }
   },
   "source": [
    "# Rouding Error"
   ]
  },
  {
   "cell_type": "markdown",
   "metadata": {},
   "source": [
    "- A FP number has a finite precision or number of significant digits ($\\sim 7$ for SP and $\\sim16$ for DP)."
   ]
  },
  {
   "cell_type": "code",
   "execution_count": null,
   "metadata": {
    "slideshow": {
     "slide_type": "-"
    }
   },
   "outputs": [],
   "source": [
    "eps_single = 2**-23 # machine precision for single\n",
    "eps_single"
   ]
  },
  {
   "cell_type": "code",
   "execution_count": null,
   "metadata": {},
   "outputs": [],
   "source": [
    "a = np.array([1.], dtype=np.float32)\n",
    "a + eps_single == a, a + eps_single/2 == a"
   ]
  },
  {
   "cell_type": "code",
   "execution_count": null,
   "metadata": {
    "slideshow": {
     "slide_type": "subslide"
    }
   },
   "outputs": [],
   "source": [
    "eps_double = 2**-52 # machine precision for double\n",
    "b = np.array([1.])\n",
    "eps_double, b + eps_double == b, b + eps_double/2 == b\n"
   ]
  },
  {
   "cell_type": "markdown",
   "metadata": {
    "slideshow": {
     "slide_type": "fragment"
    }
   },
   "source": [
    "- Subtraction of two similar numbers can cause loss of significant digits, e.g., 1.0001 - 1.0000 = 1e-4."
   ]
  },
  {
   "cell_type": "code",
   "execution_count": null,
   "metadata": {},
   "outputs": [],
   "source": [
    "np.array([1. + 2*eps_double]) - np.array([1. + 1.5*eps_double]) "
   ]
  },
  {
   "cell_type": "markdown",
   "metadata": {
    "slideshow": {
     "slide_type": "slide"
    }
   },
   "source": [
    "# Error Analysis\n",
    "Many of the numerical examples and algorithms are from [Scientific Computing: An Introductory Survey](https://www.amazon.com/Scientific-Computing-Introductory-Survey-Revised/dp/1611975573)\n",
    "![Scientific Computing](http://heath.cs.illinois.edu/scicomp/images/CL80large.jpg)"
   ]
  },
  {
   "cell_type": "markdown",
   "metadata": {
    "slideshow": {
     "slide_type": "subslide"
    }
   },
   "source": [
    "> I’ve learned that, in the description of Nature, one has to tolerate approximations, and that work with approximations can be interesting and can sometimes be beautiful. -- P.A.M. Dirac"
   ]
  },
  {
   "cell_type": "markdown",
   "metadata": {
    "slideshow": {
     "slide_type": "fragment"
    }
   },
   "source": [
    "- Example: Compute the surface area of Earth."
   ]
  },
  {
   "cell_type": "code",
   "execution_count": null,
   "metadata": {},
   "outputs": [],
   "source": [
    "R_Earth = 6378e3 # Earth radius in m (Google)\n",
    "print(f\"The surface area of Earth is approximately {4*np.pi*R_Earth:.4g} m^2.\")"
   ]
  },
  {
   "cell_type": "markdown",
   "metadata": {
    "slideshow": {
     "slide_type": "subslide"
    }
   },
   "source": [
    "## Numerical Approach\n",
    "- Compute an alternative, approximate problem: Approximating the true value $y$ by an algorithm $\\hat{f}(x)$ that can be more easily computed.\n",
    "- Use approximate inputs: Replacing $x$ by $\\hat{x}$ with a finite precision. This introduces the data error $\\Delta x=\\hat{x}-x$.\n",
    "- The final result $\\hat{y}=\\hat{f}(\\hat{x})$ has an _absolute error_ (uncertainty) $\\Delta y =\\hat{y}-y$.\n",
    "- Numerical computations usually control the _relative error_ which is defined as $\\Delta y/y\\approx \\Delta y/ \\hat{y}$. "
   ]
  },
  {
   "cell_type": "markdown",
   "metadata": {
    "slideshow": {
     "slide_type": "subslide"
    }
   },
   "source": [
    "- Total error = <span style='color:blue'> computational error </span> + <span style='color:red'> propagated data error </span>\n",
    "$$\\hat{f}(\\hat{x}) - f(x) = \\color{blue}{[\\hat{f}(\\hat{x}) - f(\\hat{x})]} + \\color{red}{[f(\\hat{x}) - f(x)]},$$\n",
    "where $f$ is the exact algorithm approximated by $\\hat{f}$.\n",
    "- Computational error = truncation error + rounding error.\n",
    "    - Rounding error: due to the limited precision.\n",
    "    - Truncation error: due to the algorithm."
   ]
  },
  {
   "cell_type": "code",
   "execution_count": null,
   "metadata": {
    "slideshow": {
     "slide_type": "subslide"
    }
   },
   "outputs": [],
   "source": [
    "def mycos(x, tol=1e-6):\n",
    "    # x = x % (2.0*pi) # move x to [0, 2*pi)\n",
    "    res = 0. # result\n",
    "    term = 1. # 1st term in the Taylor series\n",
    "    n = 0 # power of x for the term\n",
    "    while abs(term) >= tol: \n",
    "        res += term # add the term to the result\n",
    "        term *= -x*x / ((n+1)*(n+2)) # compute the new term\n",
    "        n += 2 # skip the odd power of x    \n",
    "    # res += term # add the last term\n",
    "    print(f\"(-1)^{n//2} x^{n} / {n}! = {term}\")\n",
    "    return res"
   ]
  },
  {
   "cell_type": "markdown",
   "metadata": {
    "slideshow": {
     "slide_type": "fragment"
    }
   },
   "source": [
    "Is `tol` the tolerance of the absolute error or the relative error?"
   ]
  },
  {
   "cell_type": "code",
   "execution_count": null,
   "metadata": {
    "slideshow": {
     "slide_type": "subslide"
    }
   },
   "outputs": [],
   "source": [
    "np.cos(3.) - mycos(3.) # dominated by truncation error"
   ]
  },
  {
   "cell_type": "code",
   "execution_count": null,
   "metadata": {
    "slideshow": {
     "slide_type": "fragment"
    }
   },
   "outputs": [],
   "source": [
    "np.cos(100.) - mycos(100.) # dominated by rounding error"
   ]
  },
  {
   "cell_type": "markdown",
   "metadata": {
    "slideshow": {
     "slide_type": "slide"
    }
   },
   "source": [
    "# Homework Problem\n",
    "- The standard deviation of a dataset $\\{x_1, x_2, \\cdots, x_n\\}$ is defined as\n",
    "$$\\sigma = \\sqrt{\\frac{1}{n}\\sum_{i=1}^n (x_i - \\bar{x})^2},$$\n",
    "where $\\bar{x}$ is the average value of $x_i$. It is straightforward to show that an equivalent definition of the standard deviation is\n",
    "$$\\sigma = \\sqrt{\\left(\\frac{1}{n}\\sum_{i=1}^n x_i^2\\right)- \\bar{x}^2}.$$\n",
    "Which of the two algorithms is potentially faster to compute, and which is more accurate?\n",
    "\n",
    "- Verify your conjecture with some example(s). You may find the NumPy functions `numpy.random.random()`, `numpy.sum()`, `numpy.mean()`, and `numpy.std()` useful."
   ]
  }
 ],
 "metadata": {
  "celltoolbar": "Slideshow",
  "kernelspec": {
   "display_name": "Python 3",
   "language": "python",
   "name": "python3"
  },
  "language_info": {
   "codemirror_mode": {
    "name": "ipython",
    "version": 3
   },
   "file_extension": ".py",
   "mimetype": "text/x-python",
   "name": "python",
   "nbconvert_exporter": "python",
   "pygments_lexer": "ipython3",
   "version": "3.9.1"
  }
 },
 "nbformat": 4,
 "nbformat_minor": 2
}
