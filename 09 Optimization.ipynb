{
 "cells": [
  {
   "cell_type": "markdown",
   "metadata": {},
   "source": [
    "<h1 align=\"center\"> Computation for Physicists </h1>\n",
    "<h2 align=\"center\"> <em>Optimization</em> </h2>\n",
    "<h2 align=\"center\" > <a href=\"mailto:duan@unm.edu\">Dr. Duan</a> (UNM) </h2>"
   ]
  },
  {
   "cell_type": "markdown",
   "metadata": {
    "slideshow": {
     "slide_type": "slide"
    }
   },
   "source": [
    "# Homework 8\n",
    "\n",
    "- Utilize `scipy.optimize.root()` to implement a function that computes the inverse of an arbitrary square matrix.\n",
    "\n",
    "- Hint: Use the `reshape()` method of the NumPy array to reshape a matrix into a vector and vice versa."
   ]
  },
  {
   "cell_type": "code",
   "execution_count": 1,
   "metadata": {
    "slideshow": {
     "slide_type": "fragment"
    }
   },
   "outputs": [
    {
     "data": {
      "text/plain": [
       "True"
      ]
     },
     "execution_count": 1,
     "metadata": {},
     "output_type": "execute_result"
    }
   ],
   "source": [
    "import numpy as np\n",
    "from numpy.random import random\n",
    "from scipy.linalg import inv\n",
    "import homework.hw8 as hw8\n",
    "\n",
    "n = 10\n",
    "a = random(n*n).reshape((n,n)) # random matrix\n",
    "\n",
    "np.allclose(hw8.inv(a), inv(a)) # validate function"
   ]
  },
  {
   "cell_type": "markdown",
   "metadata": {
    "slideshow": {
     "slide_type": "slide"
    }
   },
   "source": [
    "# Unconstrained Optimization\n",
    "- Find a minimum of the _objective function_ $f(\\mathbf{x})$ for $\\mathbf{x}\\in\\mathbb{R}^n$.\n",
    "    - Usually a local minimum is found. The global minimum can be difficult to achieve.\n",
    "    - Change $f$ to $-f$ if a maximum of $f$ is desired.\n",
    "    \n",
    "- If $f$ is continuously differentiable, a local minimum point $\\mathbf{x}_*$ must also be a _critical point_ where\n",
    "$$\\boldsymbol{\\nabla} f(\\mathbf{x})=\\mathbf{0}.$$\n",
    "    - A critical point can be a minimum, a maximum, or a saddle point.\n"
   ]
  },
  {
   "cell_type": "markdown",
   "metadata": {
    "slideshow": {
     "slide_type": "subslide"
    }
   },
   "source": [
    "\n",
    "- If $f$ is twice continuously differentiable, its _Hessian matrix_ $\\mathbf{H}_f$ is defined by\n",
    "$$ [\\mathbf{H}_{f}(\\mathbf{x})]_{ij} = \\frac{\\partial^2 f}{\\partial x_i \\partial x_j}.$$\n",
    "    - A critical $\\mathbf{x}_*$ is a local minimum if $\\mathbf{H}_f(\\mathbf{x}_*)$ is positive definite, i.e. $\\mathbf{v}^T\\mathbf{H}_f(\\mathbf{x}_*)\\mathbf{v}>0$ for arbitary $\\mathbf{v}\\in\\mathbb{R}^n$."
   ]
  },
  {
   "cell_type": "markdown",
   "metadata": {
    "slideshow": {
     "slide_type": "slide"
    }
   },
   "source": [
    "# 1D Minimization\n",
    "\n",
    "- A real-valued function $f(x)$ is _unimodal_ on interval $[a,b]$ if there exists a point $x_*\\in[a,b]$ such that $f$ is strictly decreasing on $[a, x_*]$ and strictly increasing on $[x_*, b]$.\n",
    "\n",
    "- Let $x_1<x_2$ be two points in $[a, b]$. If $f$ is unimodal on $[a,b]$, then $x_*\\in[a, x_2]$ if $f(x_1)< f(x_2)$ and $x_*\\in[ x_1, b]$ if $f(x_1)> x_2$. Repeat the above process by computing a new point in each iteration.\n",
    "\n",
    "- In _golden section search_, $x_1$ and $x_2$ are chosen to be at the relative positions $1-\\tau$ and $\\tau$, respectively, where $\\tau=(\\sqrt5-1)/2$ is the inverse of the golden ratio. If the next interval is $[a, x_2]$, then $x_1$ is at the relative position $\\tau$ of the new interval, and a new point $x_3$ is chosen to be at relative position $1-\\tau$. Similar choice is done for the other scenario.\n",
    "    - At each iteration, the interval shrinks by a factor of $\\tau\\approx0.618$.\n",
    "    "
   ]
  },
  {
   "cell_type": "markdown",
   "metadata": {
    "slideshow": {
     "slide_type": "subslide"
    }
   },
   "source": [
    "- 1D minimization can be done by [`minimize_scalar`](https://docs.scipy.org/doc/scipy/reference/generated/scipy.optimize.minimize_scalar.html)."
   ]
  },
  {
   "cell_type": "code",
   "execution_count": 2,
   "metadata": {
    "slideshow": {
     "slide_type": "fragment"
    }
   },
   "outputs": [
    {
     "data": {
      "text/plain": [
       "     fun: 0.07111805751964662\n",
       "    nfev: 44\n",
       "     nit: 39\n",
       " success: True\n",
       "       x: 0.7071067789659319"
      ]
     },
     "execution_count": 2,
     "metadata": {},
     "output_type": "execute_result"
    }
   ],
   "source": [
    "from scipy.optimize import minimize_scalar\n",
    "\n",
    "# objective function: f(x) = 1/2 - x exp(-x^2)\n",
    "f = lambda x: 0.5 - x * np.exp(-x**2)\n",
    "x1 = 1; x2 = 2 # initial guess\n",
    "sol = minimize_scalar(f, bracket=(x1, x2), method='golden')\n",
    "sol"
   ]
  },
  {
   "cell_type": "code",
   "execution_count": 3,
   "metadata": {
    "slideshow": {
     "slide_type": "subslide"
    }
   },
   "outputs": [
    {
     "data": {
      "text/plain": [
       "[<matplotlib.lines.Line2D at 0x1612381f0>]"
      ]
     },
     "execution_count": 3,
     "metadata": {},
     "output_type": "execute_result"
    },
    {
     "data": {
      "image/png": "[encoded data removed]",
      "text/plain": [
       "<Figure size 432x288 with 1 Axes>"
      ]
     },
     "metadata": {
      "needs_background": "light"
     },
     "output_type": "display_data"
    }
   ],
   "source": [
    "import matplotlib.pyplot as plt\n",
    "\n",
    "x = np.linspace(0, 2, 100)\n",
    "plt.plot(x, f(x), '-k')\n",
    "plt.plot(x1, f(x1), '+b', markersize=12)\n",
    "plt.plot(x2, f(x2), '+r', markersize=12)\n",
    "plt.plot(sol.x, f(sol.x), 'og', markersize=12)"
   ]
  },
  {
   "cell_type": "markdown",
   "metadata": {
    "slideshow": {
     "slide_type": "subslide"
    }
   },
   "source": [
    "- Golden section search is safe but slow (linear convergence).\n",
    "\n",
    "- From $0=f'(x_*)\\approx f'(\\hat{x})+(x_*-\\hat{x})f''(\\hat{x})$ one obtains _Newton's method_ which has the iteration scheme\n",
    "$$x_{k+1} = x_k - f'(x_k)/f''(x_k).$$\n",
    "    - Newton's method converges quadratically but must be started from close to $x_*$.\n",
    "    - It needs both $f'$ and $f''$.\n",
    "    \n",
    "- Combination of the golden search and the inverse parabolic interpolation is safe and does not need any derivative."
   ]
  },
  {
   "cell_type": "code",
   "execution_count": 4,
   "metadata": {
    "slideshow": {
     "slide_type": "fragment"
    }
   },
   "outputs": [
    {
     "data": {
      "text/plain": [
       "     fun: 0.07111805751964662\n",
       "    nfev: 15\n",
       "     nit: 11\n",
       " success: True\n",
       "       x: 0.7071067823652191"
      ]
     },
     "execution_count": 4,
     "metadata": {},
     "output_type": "execute_result"
    }
   ],
   "source": [
    "minimize_scalar(f, bracket=(x1, x2), method='brent')"
   ]
  },
  {
   "cell_type": "markdown",
   "metadata": {
    "slideshow": {
     "slide_type": "slide"
    }
   },
   "source": [
    "# Multi-D Optimization\n",
    "\n",
    "- Optimization with $n>1$ variables can be achieved through the [`minimize()`](https://docs.scipy.org/doc/scipy/reference/generated/scipy.optimize.minimize.html) function in `scipy.optimize`.\n",
    "\n",
    "- _Nelder-Mead_ method forms a simplex with $n+1$ points in $\\mathbb{R}^n$ and keeps transforming the simplex by replacing the worst point.\n",
    "![Nelder-Mead](https://upload.wikimedia.org/wikipedia/commons/thumb/e/e4/Nelder-Mead_Rosenbrock.gif/480px-Nelder-Mead_Rosenbrock.gif)\n",
    "(Figure Credit: WikiMedia)"
   ]
  },
  {
   "cell_type": "code",
   "execution_count": 5,
   "metadata": {
    "slideshow": {
     "slide_type": "subslide"
    }
   },
   "outputs": [
    {
     "data": {
      "text/plain": [
       " final_simplex: (array([[-4.93049219e-09,  7.09545764e-05],\n",
       "       [ 1.55846617e-08,  8.98347893e-05],\n",
       "       [ 2.42594018e-08, -1.56738268e-05]]), array([4.96564662e-17, 3.08011251e-16, 5.88578930e-16]))\n",
       "           fun: 4.965646624754787e-17\n",
       "       message: 'Optimization terminated successfully.'\n",
       "          nfev: 111\n",
       "           nit: 60\n",
       "        status: 0\n",
       "       success: True\n",
       "             x: array([-4.93049219e-09,  7.09545764e-05])"
      ]
     },
     "execution_count": 5,
     "metadata": {},
     "output_type": "execute_result"
    }
   ],
   "source": [
    "from scipy.optimize import minimize\n",
    "\n",
    "# objective function: f(z0, z1) = z0^2 + z1^4\n",
    "f = lambda z: z[0]**2 +  z[1]**4\n",
    "x0 = [1, 1] # initial guess\n",
    "minimize(f, x0, method='Nelder-Mead')"
   ]
  },
  {
   "cell_type": "markdown",
   "metadata": {
    "slideshow": {
     "slide_type": "subslide"
    }
   },
   "source": [
    "- The _steepest descent method_ tries to minimize along the local direction of steepest descent in every iteration \n",
    "$$\\mathbf{x}_{k+1} = \\mathbf{x}_k - \\boldsymbol{\\alpha}_k\\cdot\\boldsymbol{\\nabla}f(\\mathbf{x}_k),$$ \n",
    "where $\\boldsymbol{\\alpha}_k$ is the _line search_ parameter.\n",
    "    - Steepest desccent is reliable but can be myopic. The overall convergence rate is linear.\n"
   ]
  },
  {
   "cell_type": "markdown",
   "metadata": {
    "slideshow": {
     "slide_type": "subslide"
    }
   },
   "source": [
    "- Multi-D _Newton's method_ generalizes the 1D method with \n",
    "$$\\mathbf{x}_{k+1} = \\mathbf{x}_k - \\mathbf{H}_f^{-1}(\\mathbf{x}_k)\\boldsymbol{\\nabla}f(\\mathbf{x}_k).$$\n",
    "    - Newton's method converges quadratically if it is started from close to the solution.\n",
    "    - It requires both the first and second derivatives of $f$.\n",
    "\n",
    "\n",
    "- Quasi-Newton methods such as _BFGS_ and _conjugate gradient (CG)_ methods use approximate gradient and Hessian matrix and converge superlinearly."
   ]
  },
  {
   "cell_type": "code",
   "execution_count": 6,
   "metadata": {
    "slideshow": {
     "slide_type": "subslide"
    }
   },
   "outputs": [
    {
     "data": {
      "text/plain": [
       "      fun: 1.3417881617021954e-08\n",
       " hess_inv: array([[4.98766299e-01, 1.78466196e-11],\n",
       "       [1.78466196e-11, 3.01472007e+02]])\n",
       "      jac: array([-6.66133815e-16,  4.98682191e-06])\n",
       "  message: 'Optimization terminated successfully.'\n",
       "     nfev: 45\n",
       "      nit: 12\n",
       "     njev: 15\n",
       "   status: 0\n",
       "  success: True\n",
       "        x: array([-7.45058096e-09,  1.07626939e-02])"
      ]
     },
     "execution_count": 6,
     "metadata": {},
     "output_type": "execute_result"
    }
   ],
   "source": [
    "minimize(f, x0, method='BFGS')"
   ]
  },
  {
   "cell_type": "code",
   "execution_count": 7,
   "metadata": {
    "slideshow": {
     "slide_type": "fragment"
    }
   },
   "outputs": [
    {
     "data": {
      "text/plain": [
       "     fun: 5.765956800296951e-11\n",
       "     jac: array([-2.33503462e-06,  8.21908404e-08])\n",
       " message: 'Optimization terminated successfully.'\n",
       "    nfev: 69\n",
       "     nit: 10\n",
       "    njev: 23\n",
       "  status: 0\n",
       " success: True\n",
       "       x: array([-1.17496789e-06,  2.73896592e-03])"
      ]
     },
     "execution_count": 7,
     "metadata": {},
     "output_type": "execute_result"
    }
   ],
   "source": [
    "minimize(f, x0, method='CG')"
   ]
  },
  {
   "cell_type": "code",
   "execution_count": 8,
   "metadata": {
    "slideshow": {
     "slide_type": "subslide"
    }
   },
   "outputs": [
    {
     "data": {
      "text/plain": [
       "     fun: 1.123854350328427e-09\n",
       "     jac: array([-7.90302372e-10,  7.76412492e-07])\n",
       " message: 'Optimization terminated successfully.'\n",
       "    nfev: 14\n",
       "    nhev: 0\n",
       "     nit: 13\n",
       "    njev: 33\n",
       "  status: 0\n",
       " success: True\n",
       "       x: array([-3.95151186e-10,  5.78998592e-03])"
      ]
     },
     "execution_count": 8,
     "metadata": {},
     "output_type": "execute_result"
    }
   ],
   "source": [
    "# gradient of f\n",
    "df = lambda x: np.array([2*x[0], 4*x[1]**3])\n",
    "\n",
    "minimize(f, x0, method='Newton-CG', jac=df)"
   ]
  },
  {
   "cell_type": "markdown",
   "metadata": {
    "slideshow": {
     "slide_type": "slide"
    }
   },
   "source": [
    "# Nonlinear Least Squares\n",
    "\n",
    "- _Nonlinear least squares_ is used to find the best fit nonlinear function $f(t,\\mathbf{x})$ of model parameters $\\mathbf{x}$ for given data $(t_i, y_i)$ ($i=0,1,\\ldots, m$). This is achieved by minimize $\\phi(\\mathbf{x}) = \\mathbf{r}^T(\\mathbf{x})\\mathbf{r}(\\mathbf{x})/2 $, where $r_i(\\mathbf{x}) = y_i - f(t_i, \\mathbf{x}) $ is the _residue function_.\n",
    "\n",
    "- Using Newton's method, one solves the step $\\mathbf{s}_k = \\mathbf{x}_{k+1}-\\mathbf{x}_k $ from\n",
    "$$\n",
    "\\left[\\mathbf{J}^T(\\mathbf{x}_k) \\mathbf{J}(\\mathbf{x}_k)\n",
    "+ \\sum_{i=1}^m r_i(\\mathbf{x}_k)\\mathbf{H}_i(\\mathbf{x}_k)  \\right]\n",
    "\\mathbf{s}_k = -\\mathbf{J}^T (\\mathbf{x}_k) \\mathbf{r}(\\mathbf{x}_k),\n",
    "$$\n",
    "where $\\mathbf{J} (\\mathbf{x})$ is the Jacobian of $\\mathbf{r}(\\mathbf{x})$, and $\\mathbf{H}_i(\\mathbf{x})$ is the Hessian matrix of $r_i(\\mathbf{x})$."
   ]
  },
  {
   "cell_type": "markdown",
   "metadata": {
    "slideshow": {
     "slide_type": "subslide"
    }
   },
   "source": [
    "\n",
    "- Dropping the second term order term (which is small but expensive to compute), one obtains $\\mathbf{J}^T (\\mathbf{x}_k) \\mathbf{J} (\\mathbf{x}_k) \\mathbf{s}_k = -\\mathbf{J}^T (\\mathbf{x}_k) \\mathbf{r}(\\mathbf{x}_k)$, which is just the normal equation for the linear least squares problem:\n",
    "$$\\mathbf{J} (\\mathbf{x}_k) \\mathbf{s}_k \\simeq - \\mathbf{r}(\\mathbf{x}_k).$$\n",
    "In other words, one can solve a linear least squares problem in each Newton's step and repeat the process until the residue is small.\n",
    "\n",
    "- Nonlinear least squares problem can be solved by the [`least_squares()`](https://docs.scipy.org/doc/scipy/reference/generated/scipy.optimize.least_squares.html) function in `scipy.optimize`."
   ]
  },
  {
   "cell_type": "code",
   "execution_count": 9,
   "metadata": {
    "slideshow": {
     "slide_type": "subslide"
    }
   },
   "outputs": [
    {
     "data": {
      "text/plain": [
       "(True, array([1.98056469, 3.00779845]))"
      ]
     },
     "execution_count": 9,
     "metadata": {},
     "output_type": "execute_result"
    }
   ],
   "source": [
    "from scipy.optimize import least_squares\n",
    "\n",
    "# base function: w(t, z0, z1) = t^z0 * exp(-z1*t) \n",
    "w = lambda t, z: t**z[0] * np.exp(-z[1]*t)\n",
    "\n",
    "# generate noisy data\n",
    "t = np.linspace(0, 3, 100)\n",
    "y = w(t, [2, 3]) + 0.01*(random(len(t))-0.5) # noisy data\n",
    "\n",
    "# residue function\n",
    "res = lambda x, t, y: y - w(t, x)\n",
    "\n",
    "x0 = [0, 0] # initial guess\n",
    "sol = least_squares(res, x0, args=(t, y))\n",
    "sol.success, sol.x"
   ]
  },
  {
   "cell_type": "code",
   "execution_count": 10,
   "metadata": {
    "slideshow": {
     "slide_type": "subslide"
    }
   },
   "outputs": [
    {
     "data": {
      "image/png": "[encoded data removed]",
      "text/plain": [
       "<Figure size 432x288 with 1 Axes>"
      ]
     },
     "metadata": {
      "needs_background": "light"
     },
     "output_type": "display_data"
    }
   ],
   "source": [
    "plt.plot(t, y, 'o', label='noisy data')\n",
    "plt.plot(t, w(t, sol.x), label='best fit')\n",
    "plt.xlabel('$t$')\n",
    "plt.legend()\n",
    "plt.show()"
   ]
  },
  {
   "cell_type": "markdown",
   "metadata": {
    "slideshow": {
     "slide_type": "slide"
    }
   },
   "source": [
    "# Constrained Optimization\n",
    "\n",
    "- Find a minimum of $f(\\mathbf{x})$ subject to $\\mathbf{g}(\\mathbf{x})=\\mathbf{0}$ and/or $\\mathbf{h}(\\mathbf{x})\\leq\\mathbf{0}$, where $\\mathbf{g}: \\mathbb{R}^n\\rightarrow\\mathbb{R}^m$, and $\\mathbf{h}:\\mathbb{R}^n\\rightarrow\\mathbb{R}^p$.\n",
    "\n",
    "- Let $L(\\mathbf{x}, \\boldsymbol{\\lambda})= f(\\mathbf{x}) + \\boldsymbol{\\lambda}^T \\mathbf{g}(\\mathbf{x})$ be the _Lagrangian function_ for the optimization problem with an equality constraint, where $\\boldsymbol{\\lambda}$ is the vector of Lagrangian multipliers. A minimum point $(\\mathbf{x}_*, \\boldsymbol{\\lambda}_*)$ must also be a critical point of $L$:\n",
    "$$\n",
    "\\boldsymbol{\\nabla}L(\\mathbf{x}_*, \\boldsymbol{\\lambda}_*)\n",
    "=\\begin{bmatrix}\n",
    "\\boldsymbol{\\nabla}_{\\mathbf{x}} f(\\mathbf{x}_*) + \\mathbf{J}^T_{\\mathbf{g}}(\\mathbf{x}_*)\\boldsymbol{\\lambda_*} \\\\\n",
    "\\mathbf{g}(\\mathbf{x}_*)\n",
    "\\end{bmatrix} = \\mathbf{0},\n",
    "$$\n",
    "where $\\mathbf{J}_{\\mathbf{g}}(\\mathbf{x})$ is the Jacobian of $\\mathbf{g}$."
   ]
  },
  {
   "cell_type": "markdown",
   "metadata": {
    "slideshow": {
     "slide_type": "subslide"
    }
   },
   "source": [
    "\n",
    "- The Hessian of $L$ is\n",
    "$$ \n",
    "\\mathbf{H}_L (\\mathbf{x}, \\boldsymbol{\\lambda})\n",
    "= \\begin{bmatrix}\n",
    "\\mathbf{B} (\\mathbf{x}, \\boldsymbol{\\lambda}) & \n",
    "\\mathbf{J}^T_{\\mathbf{g}}(\\mathbf{x}) \\\\\n",
    "\\mathbf{J}_{\\mathbf{g}}(\\mathbf{x}) & \\mathbf{0}\n",
    "\\end{bmatrix},\n",
    "$$\n",
    "where \n",
    "$$\n",
    "\\mathbf{B} (\\mathbf{x}, \\boldsymbol{\\lambda})\n",
    "=\\mathbf{H}_f (\\mathbf{x}) + \\sum_{i=1}^m \\lambda_i \\mathbf{H}_{g_i}(\\mathbf{x}).\n",
    "$$ \n",
    "A critical point $(\\mathbf{x}_*, \\boldsymbol{\\lambda}_*)$ is also a constrained minimum if $\\mathbf{B}(\\mathbf{x}_*, \\boldsymbol{\\lambda}_*)$ is positive definite in the null space of $\\mathbf{J}_{\\mathbf{g}}(\\mathbf{x}_*)$ (the vectors from which are all orthogonal to the row vectors of $\\mathbf{J}_{\\mathbf{g}}(\\mathbf{x})$).\n",
    "\n",
    "- An inequality constraint $\\mathbf{h}(\\mathbf{x})\\leq\\mathbf{0}$ can be treated similarly with postive multipliers where the constraints are _active_ ($h_i(\\mathbf{x})=0$) and $\\lambda_i=0$  where the constraints are _inactive_ (i.e. $h_i(\\mathbf{x})<0$)."
   ]
  },
  {
   "cell_type": "markdown",
   "metadata": {
    "slideshow": {
     "slide_type": "subslide"
    }
   },
   "source": [
    "- The domain of the optimization variables can be implemented as [`Bounds`](https://docs.scipy.org/doc/scipy/reference/generated/scipy.optimize.Bounds.html)."
   ]
  },
  {
   "cell_type": "code",
   "execution_count": 11,
   "metadata": {
    "slideshow": {
     "slide_type": "fragment"
    }
   },
   "outputs": [
    {
     "data": {
      "text/plain": [
       "      fun: 0.06250000000000004\n",
       " hess_inv: <2x2 LbfgsInvHessProduct with dtype=float64>\n",
       "      jac: array([-2.77555756e-09,  5.00000015e-01])\n",
       "  message: 'CONVERGENCE: NORM_OF_PROJECTED_GRADIENT_<=_PGTOL'\n",
       "     nfev: 6\n",
       "      nit: 1\n",
       "     njev: 2\n",
       "   status: 0\n",
       "  success: True\n",
       "        x: array([-6.04187257e-09,  5.00000000e-01])"
      ]
     },
     "execution_count": 11,
     "metadata": {},
     "output_type": "execute_result"
    }
   ],
   "source": [
    "# f(z0, z1) = z0^2 + z1^4\n",
    "f = lambda z: z[0]**2 +  z[1]**4\n",
    "\n",
    "bounds = [(-1, 1), (0.5, 1)] # ranges of x1 and x2\n",
    "x0 = [0, 0.7] # initial guess\n",
    "minimize(f, x0, bounds=bounds)"
   ]
  },
  {
   "cell_type": "markdown",
   "metadata": {
    "slideshow": {
     "slide_type": "subslide"
    }
   },
   "source": [
    "- A linear constraint of the optimization variables can be implemented by [`LinearConstraint`](https://docs.scipy.org/doc/scipy/reference/generated/scipy.optimize.LinearConstraint.html)."
   ]
  },
  {
   "cell_type": "code",
   "execution_count": 12,
   "metadata": {
    "slideshow": {
     "slide_type": "fragment"
    }
   },
   "outputs": [
    {
     "data": {
      "text/plain": [
       "     fun: 0.2892734277739214\n",
       "     jac: array([ 0.82042048, -0.82063809])\n",
       " message: 'Optimization terminated successfully'\n",
       "    nfev: 22\n",
       "     nit: 7\n",
       "    njev: 7\n",
       "  status: 0\n",
       " success: True\n",
       "       x: array([ 0.41021024, -0.58978976])"
      ]
     },
     "execution_count": 12,
     "metadata": {},
     "output_type": "execute_result"
    }
   ],
   "source": [
    "from scipy.optimize import LinearConstraint\n",
    "\n",
    "# constraint: z0 - z1 == 1\n",
    "c = LinearConstraint(np.array([1, -1]), lb=1, ub=1)\n",
    "minimize(f, x0, constraints=c)"
   ]
  },
  {
   "cell_type": "markdown",
   "metadata": {
    "slideshow": {
     "slide_type": "subslide"
    }
   },
   "source": [
    "- A nonlinear constraint of the optimization variables can be implemented by [`NonlinearConstraint`](https://docs.scipy.org/doc/scipy/reference/generated/scipy.optimize.NonlinearConstraint.html)."
   ]
  },
  {
   "cell_type": "code",
   "execution_count": 13,
   "metadata": {
    "slideshow": {
     "slide_type": "fragment"
    }
   },
   "outputs": [
    {
     "data": {
      "text/plain": [
       "     fun: 1.0000000000000036\n",
       "     jac: array([ 2.98023224e-08, -3.99999991e+00])\n",
       " message: 'Optimization terminated successfully'\n",
       "    nfev: 10\n",
       "     nit: 3\n",
       "    njev: 3\n",
       "  status: 0\n",
       " success: True\n",
       "       x: array([ 4.03389992e-09, -1.00000000e+00])"
      ]
     },
     "execution_count": 13,
     "metadata": {},
     "output_type": "execute_result"
    }
   ],
   "source": [
    "from scipy.optimize import NonlinearConstraint\n",
    "\n",
    "# constraint: z0^2 - z1 >= 1 \n",
    "c = NonlinearConstraint(lambda x: x[0]**2 - x[1], lb=1, ub=np.inf)\n",
    "minimize(f, x0, constraints=c)"
   ]
  },
  {
   "cell_type": "markdown",
   "metadata": {
    "slideshow": {
     "slide_type": "slide"
    }
   },
   "source": [
    "# Save and Load Data\n",
    "- NumPy arrays can be saved and loaded in the text format using `numpy.savetxt()` and `numpy.loadtxt()`."
   ]
  },
  {
   "cell_type": "code",
   "execution_count": 14,
   "metadata": {},
   "outputs": [],
   "source": [
    "import numpy as np\n",
    "data = np.empty((100, 2)) # a 100x2 empty array\n",
    "data[:,0] = np.linspace(0, 10, 100) # 100 points in [0, 10]\n",
    "data[:,1] = np.sin(data[:,0])\n",
    "np.savetxt('data.txt', data)"
   ]
  },
  {
   "cell_type": "code",
   "execution_count": 15,
   "metadata": {
    "slideshow": {
     "slide_type": "subslide"
    }
   },
   "outputs": [
    {
     "data": {
      "image/png": "[encoded data removed]",
      "text/plain": [
       "<Figure size 432x288 with 1 Axes>"
      ]
     },
     "metadata": {
      "needs_background": "light"
     },
     "output_type": "display_data"
    }
   ],
   "source": [
    "import matplotlib.pyplot as plt\n",
    "data2 = np.loadtxt('data.txt') # lines starting with # are ignored\n",
    "plt.plot(data2[:,0], data2[:,1])\n",
    "plt.show()"
   ]
  },
  {
   "cell_type": "markdown",
   "metadata": {
    "slideshow": {
     "slide_type": "subslide"
    }
   },
   "source": [
    "- Numpy arrays can also be saved and loaded in the binary format using `numpy.savez()` and `numpy.load()`."
   ]
  },
  {
   "cell_type": "code",
   "execution_count": 16,
   "metadata": {
    "scrolled": false
   },
   "outputs": [
    {
     "data": {
      "image/png": "[encoded data removed]",
      "text/plain": [
       "<Figure size 432x288 with 1 Axes>"
      ]
     },
     "metadata": {
      "needs_background": "light"
     },
     "output_type": "display_data"
    }
   ],
   "source": [
    "np.savez('data.npz', x=data[:,0], sinx=data[:,1]) # save the data with keys\n",
    "data3 = np.load('data.npz') # load data as a dictionary\n",
    "plt.plot(data3['x'], data3['sinx']) \n",
    "plt.show()"
   ]
  },
  {
   "cell_type": "markdown",
   "metadata": {
    "slideshow": {
     "slide_type": "slide"
    }
   },
   "source": [
    "# Homework 9\n",
    "\n",
    "- Write a function to determine the height and radius of the cylinder that has the minimum surface area for a given volume."
   ]
  }
 ],
 "metadata": {
  "celltoolbar": "Slideshow",
  "kernelspec": {
   "display_name": "Python 3",
   "language": "python",
   "name": "python3"
  },
  "language_info": {
   "codemirror_mode": {
    "name": "ipython",
    "version": 3
   },
   "file_extension": ".py",
   "mimetype": "text/x-python",
   "name": "python",
   "nbconvert_exporter": "python",
   "pygments_lexer": "ipython3",
   "version": "3.8.8"
  }
 },
 "nbformat": 4,
 "nbformat_minor": 2
}
