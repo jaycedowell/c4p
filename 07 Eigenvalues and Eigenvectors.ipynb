{
 "cells": [
  {
   "cell_type": "markdown",
   "metadata": {},
   "source": [
    "<h1 align=\"center\"> Computation for Physicists </h1>\n",
    "<h2 align=\"center\"> <em>Eigenvalues and Eigenvectors</em> </h2>\n",
    "<h2 align=\"center\" > <a href=\"mailto:duan@unm.edu\">Dr. Duan</a> (UNM) </h2>"
   ]
  },
  {
   "cell_type": "markdown",
   "metadata": {
    "slideshow": {
     "slide_type": "slide"
    }
   },
   "source": [
    "# Linear Least Squares\n",
    "\n",
    "- The _least squares_ solution $\\mathbf{x}$ to $\\mathbf{A}\\mathbf{x}\\simeq\\mathbf{y}$ minimizes the 2-norm of the residual vector $\\mathbf{r}=\\mathbf{y}-\\mathbf{A}\\mathbf{x}$.\n",
    "\n",
    "- The least squares solution can be solved from the _normal equation_ $\\mathbf{A}^T\\mathbf{A}\\mathbf{x}\n",
    "=\\mathbf{A}^T\\mathbf{y}$.\n",
    "\n",
    "- The least squares solution can also be solved from $\\mathbf{R}\\mathbf{x}=\\mathbf{z}_1 = \\mathbf{Q}_1^T y$ by backward substitution and the QR factorization\n",
    "$$\\mathbf{A}= \\mathbf{Q}\\begin{bmatrix}\\mathbf{R}\\\\\\mathbf{0}\\end{bmatrix}\n",
    "=\\begin{bmatrix}\\mathbf{Q}_1\\ \\mathbf{Q_2}\\end{bmatrix}\n",
    "\\begin{bmatrix}\\mathbf{R}\\\\\\mathbf{0}\\end{bmatrix} = \\mathbf{Q}_1\\mathbf{R}.$$"
   ]
  },
  {
   "cell_type": "markdown",
   "metadata": {
    "slideshow": {
     "slide_type": "slide"
    }
   },
   "source": [
    "- The _minimum norm solution_ to $\\mathbf{A}\\mathbf{x}\\simeq \\mathbf{y}$ is also given by\n",
    "$$\\mathbf{x}=\\sum_{i=0}^{k-1} \\sigma_i^{-1}\\, (\\mathbf{u}_i^T\\cdot\\mathbf{y})\\,\\mathbf{v}_i$$\n",
    "after the singular value decomposition (SVD)\n",
    "$$\\mathbf{A} = \\mathbf{U} \\mathbf{\\Sigma}\\mathbf{V}^T\n",
    "= \\sum_{i=0}^{n-1}\\sigma_i \\mathbf{u}_i\\mathbf{v}_i^T.$$\n",
    "\n",
    "- The normal equation method is the fastest but not as stable as the QR factorization. The SVD method is the most robus but much more expensive than the QR factorization."
   ]
  },
  {
   "cell_type": "markdown",
   "metadata": {
    "slideshow": {
     "slide_type": "slide"
    }
   },
   "source": [
    "# Homework\n",
    "- The _pseudoinverse_ of a $m\\times n$ real matrix $\\mathbf{A}$ can be written as\n",
    "$$\\mathbf{A}^+ = \\mathbf{V}\\mathbf{\\Sigma}^+\\mathbf{U}^T,$$\n",
    "where $\\mathbf{\\Sigma}^+$ is a $n\\times m$ diagonal matrix with the first $k$ diagonal values being $1/\\sigma_i$ ($\\sigma_i\\neq0)$ and the rest being 0. \n",
    "\n",
    "- Write a simple function to compute the pseudoinverse of an arbitrary real matrix. Validate that it produces the inverse of a nonsingular square matrix. Show how it may be used to solve the least squares problem. You may find `numpy.outer()` useful."
   ]
  },
  {
   "cell_type": "code",
   "execution_count": 1,
   "metadata": {
    "slideshow": {
     "slide_type": "subslide"
    }
   },
   "outputs": [
    {
     "data": {
      "text/plain": [
       "True"
      ]
     },
     "execution_count": 1,
     "metadata": {},
     "output_type": "execute_result"
    }
   ],
   "source": [
    "import numpy as np\n",
    "from numpy.random import random\n",
    "import scipy.linalg as la\n",
    "import homework.hw6 as hw6\n",
    "\n",
    "m = n = 20; # problem size\n",
    "A = random(m*n).reshape((m,n)) # random matrix\n",
    "np.allclose(la.inv(A), hw6.pinv(A)) # inverse of square matrix"
   ]
  },
  {
   "cell_type": "code",
   "execution_count": 2,
   "metadata": {
    "slideshow": {
     "slide_type": "fragment"
    }
   },
   "outputs": [
    {
     "data": {
      "text/plain": [
       "True"
      ]
     },
     "execution_count": 2,
     "metadata": {},
     "output_type": "execute_result"
    }
   ],
   "source": [
    "n = 3\n",
    "A = random(m*n).reshape((m,n)) # random matrix\n",
    "np.allclose(la.pinv(A), hw6.pinv(A)) # pseudoinverse of rect. matrix."
   ]
  },
  {
   "cell_type": "code",
   "execution_count": 3,
   "metadata": {
    "slideshow": {
     "slide_type": "subslide"
    }
   },
   "outputs": [
    {
     "name": "stdout",
     "output_type": "stream",
     "text": [
      "least squares: x =  [1.15487755 1.88004715 1.01198085]\n",
      "pseudoinverse: x =  [1.15487755 1.88004715 1.01198085]\n"
     ]
    }
   ],
   "source": [
    "t = np.linspace(0, 10, m) # m points in [0, 10]\n",
    "y = 1 + 2*t + t**2 + (random(m)-0.5) # noisy data points\n",
    "A = np.empty((m, n)) # construct the matrix for a polynomial fit\n",
    "A[:,0] = 1.; A[:,1] = t; A[:,2] = t**2\n",
    "x, *_ = la.lstsq(A, y) # *_ catches the rest of the tuple\n",
    "print(\"least squares: x = \", x)\n",
    "print(\"pseudoinverse: x = \", hw6.pinv(A) @ y)"
   ]
  },
  {
   "cell_type": "markdown",
   "metadata": {
    "slideshow": {
     "slide_type": "slide"
    }
   },
   "source": [
    "# Eigenvalues and Eigenvectors\n",
    "\n",
    "- The number $\\lambda$ is an eigenvalue of the $n\\times n$ matrix $\\mathbf{A}$ is there exists a nonzero vector $\\mathbf{v}$ such that\n",
    "$$\\mathbf{A}\\mathbf{v} = \\lambda\\mathbf{v}.$$\n",
    "Geometrically, $\\mathbf{A}$ maps the $n$-vector $\\mathbf{v}$ to itself with the scaling factor $\\lambda$.\n",
    "\n",
    "- $\\lambda$ can be complex even if $\\mathbf{A}$ is real.\n",
    "\n",
    "- All the eigenvalues of $\\mathbf{A}$ form its _spectrum_, and the largest magnitude of all eigenvalues is called the _spectral radius_.\n",
    "\n",
    "- If $\\mathbf{A}$ has $n$ linearly independent eigenvectors, then it has $n$ eigenvalues $\\lambda_i$ (some can be degenerate). It can be diagonalized by the square matrix $\\mathbf{V}$ formed by the eigenvectors $\\mathbf{v}_i$ ($i=0,\\ldots,n-1$):\n",
    "$$\\mathbf{V}^{-1}\\mathbf{A}\\mathbf{V}=\\mathbf{\\Lambda}\n",
    "=\\mathrm{diag}[\\lambda_0,\\ldots,\\lambda_{n-1}].$$"
   ]
  },
  {
   "cell_type": "markdown",
   "metadata": {
    "slideshow": {
     "slide_type": "subslide"
    }
   },
   "source": [
    "# $n$-Level System with Constant Hamiltonian\n",
    "\n",
    "- Example: Suppose the Hamiltonian $H$ of an $n$-level quantum system is constant and known. Compute its quantum state $|\\psi(t)\\rangle$ at time $t$ with a given initial state $|\\psi(0)\\rangle$."
   ]
  },
  {
   "cell_type": "markdown",
   "metadata": {
    "slideshow": {
     "slide_type": "fragment"
    }
   },
   "source": [
    "- Let $|\\phi_i\\rangle$ ($i=0,1,\\ldots,n-1$) be an arbitrary orthonormal basis of the Hilbert space of the quantum system, and $\\mathbf{H}$ be the $n\\times n$ matrix representation of the Hamiltonian in this basis. Then $c_i(t)=\\langle\\phi_i|\\psi(t)\\rangle$ can be solved from the Schrödinger equation:\n",
    "$$\\mathrm{i}\\hbar\\dot{\\mathbf{c}}(t) = \\mathbf{H}\\,\\mathbf{c}(t).$$"
   ]
  },
  {
   "cell_type": "markdown",
   "metadata": {
    "slideshow": {
     "slide_type": "subslide"
    }
   },
   "source": [
    "- For constant $\\mathbf{H}$, one can find the propagator directly:\n",
    "$$\\mathbf{U}(t) = e^{-\\mathrm{i}\\mathbf{H} t/\\hbar} \n",
    "= \\mathbf{V}e^{-\\mathrm{i}\\mathbf{\\Lambda} t/\\hbar}\\mathbf{V}^{-1},$$\n",
    "where \n",
    "$$e^{-\\mathrm{i}\\mathbf{\\Lambda} t/\\hbar}\n",
    "=\\mathrm{diag}[e^{-\\mathrm{i}\\lambda_0 t/\\hbar}, \\cdots, e^{-\\mathrm{i}\\lambda_{n-1} t/\\hbar}].$$ \n",
    "The solution to the Schrödinger equation is $\\mathbf{c}(t)=\\mathbf{U}(t)\\, \\mathbf{c}(0)$."
   ]
  },
  {
   "cell_type": "code",
   "execution_count": 4,
   "metadata": {
    "slideshow": {
     "slide_type": "subslide"
    }
   },
   "outputs": [],
   "source": [
    "class Propagator:\n",
    "    def __init__(self, H): # object constructor\n",
    "        \"Initialize the Propagator with the Hamiltonian matrix.\"\n",
    "        self.w, self.V = la.eigh(H) # compute eigenvalues and eigenvectors\n",
    "        \n",
    "    def __call__(self, t, psi0): # make object callable\n",
    "        '''Return the state vector at t given the initial vector psi0 at t=0.'''\n",
    "        prop = np.diag(np.exp(-1.0j*self.w*t)) # e^(-iΛt)\n",
    "        prop = self.V @ prop @ np.conj(self.V.T) # propagator\n",
    "        return (prop @ psi0)"
   ]
  },
  {
   "cell_type": "code",
   "execution_count": 5,
   "metadata": {
    "slideshow": {
     "slide_type": "subslide"
    }
   },
   "outputs": [
    {
     "data": {
      "text/plain": [
       "{'w': array([-1.,  1.]),\n",
       " 'V': array([[-0.70710678,  0.70710678],\n",
       "        [ 0.70710678,  0.70710678]])}"
      ]
     },
     "execution_count": 5,
     "metadata": {},
     "output_type": "execute_result"
    }
   ],
   "source": [
    "sigma_x = np.array([[0, 1], [1, 0]]) # 1st Pauli matrix \n",
    "prop = Propagator(sigma_x) # propagator object\n",
    "\n",
    "prop.__dict__ # properties of prop"
   ]
  },
  {
   "cell_type": "code",
   "execution_count": 6,
   "metadata": {
    "slideshow": {
     "slide_type": "fragment"
    }
   },
   "outputs": [],
   "source": [
    "n = 100 # number of time snapshots\n",
    "t = np.linspace(0, 2*np.pi, n) # time points\n",
    "c = np.empty((n, 2), dtype=np.complex128) # snapshots of states\n",
    "c[0,:] = [1, 0] # initial state\n",
    "for i in range(n): \n",
    "    c[i,:] = prop(t[i], c[0,:]) # object prop is callable"
   ]
  },
  {
   "cell_type": "code",
   "execution_count": 7,
   "metadata": {
    "scrolled": true,
    "slideshow": {
     "slide_type": "subslide"
    }
   },
   "outputs": [
    {
     "data": {
      "image/png": "[encoded data removed]",
      "text/plain": [
       "<Figure size 432x288 with 1 Axes>"
      ]
     },
     "metadata": {
      "needs_background": "light"
     },
     "output_type": "display_data"
    }
   ],
   "source": [
    "import matplotlib.pyplot as plt\n",
    "plt.plot(t, np.abs(c[:,0])**2, label=r'$|c_0(t)|^2$')\n",
    "plt.plot(t, la.norm(c, axis=1)**2, label=r'$|\\mathbf{c}(t)|^2$')\n",
    "plt.xlabel('$t$')\n",
    "plt.legend()\n",
    "plt.show()"
   ]
  },
  {
   "cell_type": "markdown",
   "metadata": {
    "slideshow": {
     "slide_type": "slide"
    }
   },
   "source": [
    "# Some Math Background\n",
    "\n",
    "- The eigenvalues of $\\mathbf{A}$ are the roots of the chacteristic polynomial\n",
    "$$\\det(\\mathbf{A}-\\lambda\\mathbf{1})=0.$$\n",
    "\n",
    "- Because the roots of a polynomial of degree larger than 4 cannot always be found with a finite number of steps, the eigenvalues of a matrix are usually computed through iterative processes.\n",
    "\n",
    "- The eigenvectors of a normal matrix ($\\mathbf{A}^\\dagger\\mathbf{A}=\\mathbf{A}\\mathbf{A}^\\dagger$) are orthogonal, and its eigenvalues are well-conditioned."
   ]
  },
  {
   "cell_type": "markdown",
   "metadata": {
    "slideshow": {
     "slide_type": "subslide"
    }
   },
   "source": [
    "- Similarity transformation $\\mathbf{A}\\rightarrow\\mathbf{B}=\\mathbf{T}^{-1}\\mathbf{A}\\mathbf{T}$ preserves eigenvalues. If $\\mathbf{B}\\mathbf{u}=\\lambda\\mathbf{u}$, then $\\mathbf{A}(\\mathbf{T}\\mathbf{u})=\\lambda(\\mathbf{T}\\mathbf{u})$.\n",
    "\n",
    "- It is always possible to make a matrix triangular through a suitable similarity transformation where the eigenvalues are the diagonal entries of the triangular matrix. \n",
    "\n",
    "- The eigenvector $\\mathbf{v}_i$ of the upper triangular matrix $\\mathbf{A}$ can be solved by the backward substitution (up to a constant factor) from $(\\mathbf{A}-\\lambda_i\\mathbf{1})\\mathbf{v}_i=\\mathbf{0}$."
   ]
  },
  {
   "cell_type": "markdown",
   "metadata": {
    "slideshow": {
     "slide_type": "slide"
    }
   },
   "source": [
    "# Power Iteration\n",
    "\n",
    "- Suppose $\\lambda_0$ has the largest magnitude, then for an arbitary vector $\\mathbf{x}_0 =\\sum_i c_i \\mathbf{v}_i$, one has\n",
    "$$\\mathbf{x}_k=\\mathbf{A}^k \\mathbf{x}_0 = \\lambda_0^k\n",
    "\\left[c_0 \\mathbf{v}_0 + \\sum_{i>0} \\left(\\frac{\\lambda_i}{\\lambda_0}\\right) c_i \\mathbf{v}_i\\right]\n",
    "\\rightarrow \\lambda_0^k c_0 \\mathbf{v}_0.$$\n",
    "\n",
    "- One can normalize the vector at each state to prevent overflow or underflow.\n",
    "\n",
    "- The approximate eigenvalue is given by\n",
    "$$\\lambda_0 \\approx \\frac{\\mathbf{x}_k^T\\mathbf{A}\\mathbf{x}_k}{\\mathbf{x}_k^T\\mathbf{x}_k}.$$"
   ]
  },
  {
   "cell_type": "markdown",
   "metadata": {
    "slideshow": {
     "slide_type": "subslide"
    }
   },
   "source": [
    "- One can shift the matrix, $\\mathbf{A}\\rightarrow\\mathbf{B}=\\mathbf{A}-\\sigma\\mathbf{1}$, to improve the convergence."
   ]
  },
  {
   "cell_type": "code",
   "execution_count": 8,
   "metadata": {
    "slideshow": {
     "slide_type": "fragment"
    }
   },
   "outputs": [
    {
     "name": "stdout",
     "output_type": "stream",
     "text": [
      "[0.71274083 0.70142748]\n"
     ]
    }
   ],
   "source": [
    "A = sigma_x + 1.5*np.eye(2) # shift sigma_x\n",
    "v = np.array([1, 0]) # initial guess of the eigenvector\n",
    "\n",
    "numit = 3 # number of iterations\n",
    "for i in range(numit): \n",
    "    v = A @ v # power iteration\n",
    "    v /= la.norm(v) # normalized the vector\n",
    "    \n",
    "print(v) # approximate eigen vector"
   ]
  },
  {
   "cell_type": "code",
   "execution_count": 9,
   "metadata": {
    "slideshow": {
     "slide_type": "fragment"
    }
   },
   "outputs": [
    {
     "data": {
      "text/plain": [
       "0.9998720081914758"
      ]
     },
     "execution_count": 9,
     "metadata": {},
     "output_type": "execute_result"
    }
   ],
   "source": [
    "(v @ sigma_x @ v) / (v @ v) # approximate eigenvalue"
   ]
  },
  {
   "cell_type": "markdown",
   "metadata": {
    "slideshow": {
     "slide_type": "slide"
    }
   },
   "source": [
    "# QR Iteration\n",
    "\n",
    "- Let $\\mathbf{A}\\equiv\\mathbf{A}_0\\equiv\\mathbf{Q}_1\\mathbf{R}_1$ be its QR factorization, and\n",
    "$$\\mathbf{A}_k\\equiv\\mathbf{Q}_k^\\dagger\\mathbf{A}_{k-1}\\mathbf{Q}_k \n",
    "=\\mathbf{R}_k\\mathbf{Q}_k\\equiv\\mathbf{Q}_{k+1}\\mathbf{R}_{k+1}.$$\n",
    "As $k\\rightarrow\\infty$, $\\mathbf{A}_k$ becomes upper triangular if all the eigenvalues of $\\mathbf{A}$ have distinct moduli and block triangular otherwise.\n",
    "\n",
    "- If $\\mathbf{A}$ is Hermitian, then\n",
    "$$\\mathbf{A}_k\\rightarrow\\mathbf{\\Lambda}\n",
    "\\qquad\\mathrm{and}\\qquad\n",
    "\\mathbf{Q}_1\\mathbf{Q}_2\\cdots\\mathbf{Q}_k \\rightarrow\\mathbf{V}.$$"
   ]
  },
  {
   "cell_type": "code",
   "execution_count": 10,
   "metadata": {
    "slideshow": {
     "slide_type": "subslide"
    }
   },
   "outputs": [
    {
     "name": "stdout",
     "output_type": "stream",
     "text": [
      "[[ 1.000e+00  2.048e-07]\n",
      " [ 2.048e-07 -1.000e+00]]\n"
     ]
    }
   ],
   "source": [
    "A = sigma_x + 1.5*np.eye(2) # shift sigma_x\n",
    "V = np.eye(2) # initial guess\n",
    "\n",
    "numit = 10 # number of iterations\n",
    "for i in range(numit): \n",
    "    Q, R = la.qr(A) # QR factorization\n",
    "    A = R @ Q # generate next A\n",
    "    V = V @ Q # approximate V\n",
    "    \n",
    "print(A-1.5*np.eye(2))"
   ]
  },
  {
   "cell_type": "code",
   "execution_count": 11,
   "metadata": {
    "scrolled": true
   },
   "outputs": [
    {
     "name": "stdout",
     "output_type": "stream",
     "text": [
      "[[ 0.70710685 -0.70710671]\n",
      " [ 0.70710671  0.70710685]]\n"
     ]
    }
   ],
   "source": [
    "print(V)"
   ]
  },
  {
   "cell_type": "markdown",
   "metadata": {
    "slideshow": {
     "slide_type": "slide"
    }
   },
   "source": [
    "# Singular Value Decomposition (SVD)\n",
    "\n",
    "- The SVD of a $m\\times n$ matrix is given by $\\mathbf{A}\\equiv\\mathbf{U}\\mathbf{\\Sigma}\\mathbf{V}^\\dagger$, where $\\mathbf{U}$ and $\\mathbf{V}$ are $m\\times m$ and $n\\times n$ unitary matrices, and $\\mathbf{\\Sigma}$ is a non-negative, $m\\times n$ diagonal matrix.\n",
    "\n",
    "- Because $\\mathbf{V}^\\dagger(\\mathbf{A}^\\dagger\\mathbf{A})\\mathbf{V}\n",
    "=\\mathbf{\\Sigma}^\\dagger\\mathbf{\\Sigma}$, the column vectors of $\\mathbf{V}$ are the eigenvectors of $\\mathbf{A}^\\dagger\\mathbf{A}$, and the corresponding eigenvalues are the diagonal entries of $\\mathbf{\\Sigma}^\\dagger\\mathbf{\\Sigma}$ which are the squares of the singular values of $\\mathbf{A}$ (and 0).\n",
    "\n",
    "- Similarly, because $\\mathbf{U}^\\dagger(\\mathbf{A}\\mathbf{A}^\\dagger)\\mathbf{U}\n",
    "=\\mathbf{\\Sigma}\\mathbf{\\Sigma}^\\dagger$, the column vectors of $\\mathbf{U}$ are the eigenvectors of $\\mathbf{A}\\mathbf{A}^\\dagger$, the corresponding eigenvalues are the diagonal entries of $\\mathbf{\\Sigma}\\mathbf{\\Sigma}^\\dagger$ which are also the squares of the singular values of $\\mathbf{A}$ (and 0)."
   ]
  },
  {
   "cell_type": "code",
   "execution_count": 12,
   "metadata": {
    "slideshow": {
     "slide_type": "subslide"
    }
   },
   "outputs": [
    {
     "name": "stdout",
     "output_type": "stream",
     "text": [
      "[4.24207033 0.60054404 0.0626429 ]\n",
      "[4.24207033 0.60054404 0.0626429 ]\n"
     ]
    }
   ],
   "source": [
    "m = 4; n = 3 # problem size\n",
    "A = random(m*n).reshape((m,n)) # rect. matrix\n",
    "U, s, Vh = la.svd(A) # singular value decomposition \n",
    "w1, V1 = la.eigh(np.conj(A.T) @ A) # eigenvalue decomposition\n",
    "print(s**2)\n",
    "print(np.flip(w1)) # reverse the order of w1"
   ]
  },
  {
   "cell_type": "code",
   "execution_count": 13,
   "metadata": {
    "slideshow": {
     "slide_type": "fragment"
    }
   },
   "outputs": [
    {
     "name": "stdout",
     "output_type": "stream",
     "text": [
      "[4.24207033 0.60054404 0.0626429 ]\n",
      "[ 4.24207033e+00  6.00544043e-01  6.26429027e-02 -2.49800182e-16]\n"
     ]
    }
   ],
   "source": [
    "w2, U2 = la.eigh(A @ np.conj(A.T)) # eigenvalue decomposition\n",
    "print(s**2)\n",
    "print(np.flip(w2)) # reverse the order of w2"
   ]
  },
  {
   "cell_type": "markdown",
   "metadata": {
    "slideshow": {
     "slide_type": "slide"
    }
   },
   "source": [
    "# Other Notes\n",
    "\n",
    "- The efficiency of the QR iteration can be greatly enhancced by first transforming the matrix to the Hessenberg or tridiagonal form.\n",
    "\n",
    "- SVD can be computed by some variant of the QR iteration.\n",
    "\n",
    "- `scipy.linalg` provides several functions (e.g., `eig()` and `eigvals()`) to compute the eigenvalues and eigenvectors of an abitrary matrix.\n",
    "\n",
    "- Computing eigenvectors require additional resources.\n",
    "\n",
    "- Special algorithms may be available for the matrices of symmetric properties (e.g., `eigh()` and `eig_banded()`)."
   ]
  },
  {
   "cell_type": "markdown",
   "metadata": {
    "slideshow": {
     "slide_type": "slide"
    }
   },
   "source": [
    "# Homework\n",
    "\n",
    "- The roots of the monic polynomial $p(t)=c_0 + c_1 t + \\cdots + c_{n-1} t^{n-1} + t^n$ are the same as the eigenvalues of its companion matrix\n",
    "$$C(p) = \\begin{bmatrix}\n",
    "0 & 0 & \\cdots & 0 & -c_0 \\\\\n",
    "1 & 0 & \\cdots & 0 & -c_1 \\\\\n",
    "0 & 1 & \\cdots & 0 & -c_2 \\\\\n",
    "\\vdots & \\vdots & \\ddots & \\vdots & \\vdots \\\\\n",
    "0 & 0 & \\cdots & 1 & -c_{n-1}\n",
    "\\end{bmatrix}.$$\n",
    "\n",
    "- Define class `Polynomial` to generate callable objects that produce the function values of polynomials. A `Polynomial` object is inialized by the coefficients of the polynomial, and it has a method `roots()` to compute the roots of the polynomial. Document and validate your code."
   ]
  },
  {
   "cell_type": "markdown",
   "metadata": {
    "slideshow": {
     "slide_type": "slide"
    }
   },
   "source": [
    "# Packing/Unpacking Function Arguments\n",
    "- Use tuple and dictionary to pass multiple arguments."
   ]
  },
  {
   "cell_type": "code",
   "execution_count": 14,
   "metadata": {},
   "outputs": [
    {
     "name": "stdout",
     "output_type": "stream",
     "text": [
      "f(x=1, y=2, z=3)\n"
     ]
    }
   ],
   "source": [
    "def f(x, y, z):\n",
    "    print(f'f(x={x}, y={y}, z={z})')\n",
    "    \n",
    "args = 2, 3\n",
    "f(1, *args) # Use * to unpack tuple"
   ]
  },
  {
   "cell_type": "code",
   "execution_count": 15,
   "metadata": {
    "slideshow": {
     "slide_type": "fragment"
    }
   },
   "outputs": [
    {
     "name": "stdout",
     "output_type": "stream",
     "text": [
      "f(x=2, y=3, z=1)\n"
     ]
    }
   ],
   "source": [
    "kargs = {'z': 1}\n",
    "f(*args, **kargs) # use ** to unpack dict"
   ]
  },
  {
   "cell_type": "markdown",
   "metadata": {
    "slideshow": {
     "slide_type": "subslide"
    }
   },
   "source": [
    "- Use `*` and `**` to collect the optional arguments without and with keys."
   ]
  },
  {
   "cell_type": "code",
   "execution_count": 16,
   "metadata": {},
   "outputs": [],
   "source": [
    "def g(a, *args, **kargs): # a is required\n",
    "    l = [str(a)] # required arguments\n",
    "    l += [str(val) for val in args] # optional positional arguments\n",
    "    l += [f'{key}={val}' for key, val in kargs.items()] # optional args with keys\n",
    "    print('g(' + ', '.join(l) + ')')"
   ]
  },
  {
   "cell_type": "code",
   "execution_count": 17,
   "metadata": {
    "slideshow": {
     "slide_type": "fragment"
    }
   },
   "outputs": [
    {
     "name": "stdout",
     "output_type": "stream",
     "text": [
      "g(2)\n",
      "g(2, 3, 4)\n",
      "g(2, 3, x=5, y=6)\n"
     ]
    }
   ],
   "source": [
    "g(2)\n",
    "g(2, 3, 4)\n",
    "g(2, 3, x=5, y=6)"
   ]
  },
  {
   "cell_type": "markdown",
   "metadata": {
    "slideshow": {
     "slide_type": "slide"
    }
   },
   "source": [
    "# Save and Load Data\n",
    "- NumPy arrays can be saved and loaded in the text format using `numpy.savetxt()` and `numpy.loadtxt()`."
   ]
  },
  {
   "cell_type": "code",
   "execution_count": 18,
   "metadata": {},
   "outputs": [],
   "source": [
    "import numpy as np\n",
    "data = np.empty((100, 2)) # a 100x2 empty array\n",
    "data[:,0] = np.linspace(0, 10, 100) # 100 points in [0, 10]\n",
    "data[:,1] = np.sin(data[:,0])\n",
    "np.savetxt('data.txt', data)"
   ]
  },
  {
   "cell_type": "code",
   "execution_count": 19,
   "metadata": {
    "slideshow": {
     "slide_type": "subslide"
    }
   },
   "outputs": [
    {
     "data": {
      "text/plain": [
       "[<matplotlib.lines.Line2D at 0x1564c5ac0>]"
      ]
     },
     "execution_count": 19,
     "metadata": {},
     "output_type": "execute_result"
    },
    {
     "data": {
      "image/png": "[encoded data removed]",
      "text/plain": [
       "<Figure size 432x288 with 1 Axes>"
      ]
     },
     "metadata": {
      "needs_background": "light"
     },
     "output_type": "display_data"
    }
   ],
   "source": [
    "import matplotlib.pyplot as plt\n",
    "data2 = np.loadtxt('data.txt') # lines starting with # are ignored\n",
    "plt.plot(data2[:,0], data2[:,1])"
   ]
  },
  {
   "cell_type": "markdown",
   "metadata": {
    "slideshow": {
     "slide_type": "subslide"
    }
   },
   "source": [
    "- Numpy arrays can also be saved and loaded in the binary format using `numpy.savez()` and `numpy.load()`."
   ]
  },
  {
   "cell_type": "code",
   "execution_count": 20,
   "metadata": {
    "scrolled": true
   },
   "outputs": [
    {
     "data": {
      "text/plain": [
       "[<matplotlib.lines.Line2D at 0x156586340>]"
      ]
     },
     "execution_count": 20,
     "metadata": {},
     "output_type": "execute_result"
    },
    {
     "data": {
      "image/png": "[encoded data removed]",
      "text/plain": [
       "<Figure size 432x288 with 1 Axes>"
      ]
     },
     "metadata": {
      "needs_background": "light"
     },
     "output_type": "display_data"
    }
   ],
   "source": [
    "np.savez('data.npz', x=data[:,0], sinx=data[:,1]) # save the data with keys\n",
    "data3 = np.load('data.npz') # load data as a dictionary\n",
    "plt.plot(data3['x'], data3['sinx']) "
   ]
  },
  {
   "cell_type": "markdown",
   "metadata": {
    "slideshow": {
     "slide_type": "slide"
    }
   },
   "source": [
    "# End"
   ]
  },
  {
   "cell_type": "code",
   "execution_count": 179,
   "metadata": {
    "slideshow": {
     "slide_type": "slide"
    }
   },
   "outputs": [],
   "source": [
    "def _companion(c):\n",
    "    n = len(c)\n",
    "    cmat = np.zeros((n,n), dtype=c.dtype)\n",
    "    cmat[:,-1] = -c[:]\n",
    "    for i in range(n-1):\n",
    "        cmat[i+1,i] = 1\n",
    "    return cmat\n",
    "\n",
    "class Polynomial:\n",
    "    def __init__(self, coe):\n",
    "        self.coe = np.copy(coe)\n",
    "        \n",
    "    def __call__(self, x):\n",
    "        if isinstance(x, np.ndarray):\n",
    "            res = np.empty(x.shape, dtype=x.dtype)\n",
    "            res[:] = self.coe[0]\n",
    "            xp = np.empty(x.shape, dtype=x.dtype)\n",
    "            xp[:] = 1.\n",
    "        else:\n",
    "            res = self.coe[0]\n",
    "            xp = 1.\n",
    "        for i in range(1, len(self.coe)):\n",
    "            xp *= x\n",
    "            res += self.coe[i]*xp\n",
    "        return res\n",
    "    \n",
    "    def roots(self):\n",
    "        n = len(self.coe)-1\n",
    "        cmat = np.zeros((n,n), dtype=self.coe.dtype)\n",
    "        cmat[:,-1] = -self.coe[:n]/self.coe[-1]\n",
    "        for i in range(n-1):\n",
    "            cmat[i+1,i] = 1\n",
    "        return la.eigvals(cmat)"
   ]
  },
  {
   "cell_type": "code",
   "execution_count": 180,
   "metadata": {},
   "outputs": [],
   "source": [
    "f = Polynomial(random(10)*10-5)\n",
    "# f = Polynomial([1, 0, 1])"
   ]
  },
  {
   "cell_type": "code",
   "execution_count": 181,
   "metadata": {},
   "outputs": [
    {
     "data": {
      "text/plain": [
       "{'coe': array([ 4.29516469, -4.24987078, -1.34164291, -4.33002303, -1.16575362,\n",
       "         2.21509912,  3.24163959, -2.90379734, -4.76495388,  1.3488763 ])}"
      ]
     },
     "execution_count": 181,
     "metadata": {},
     "output_type": "execute_result"
    }
   ],
   "source": [
    "f.__dict__"
   ]
  },
  {
   "cell_type": "code",
   "execution_count": 184,
   "metadata": {},
   "outputs": [
    {
     "data": {
      "text/plain": [
       "array([4.70734562e-14, 8.05089309e-14, 8.05089309e-14, 4.95722972e-14,\n",
       "       4.95722972e-14, 4.46517823e-15, 3.39989374e-14, 3.39989374e-14,\n",
       "       5.82076609e-11])"
      ]
     },
     "execution_count": 184,
     "metadata": {},
     "output_type": "execute_result"
    }
   ],
   "source": [
    "np.abs(f(f.roots()))"
   ]
  },
  {
   "cell_type": "code",
   "execution_count": 170,
   "metadata": {
    "scrolled": false
   },
   "outputs": [
    {
     "data": {
      "text/plain": [
       "[<matplotlib.lines.Line2D at 0x7f96f1e29520>]"
      ]
     },
     "execution_count": 170,
     "metadata": {},
     "output_type": "execute_result"
    },
    {
     "data": {
      "image/png": "[encoded data removed]",
      "text/plain": [
       "<Figure size 432x288 with 1 Axes>"
      ]
     },
     "metadata": {
      "needs_background": "light"
     },
     "output_type": "display_data"
    }
   ],
   "source": [
    "x = np.linspace(-1,1)\n",
    "plt.plot(x, Polynomial([-0.5,0,1])(x))"
   ]
  }
 ],
 "metadata": {
  "celltoolbar": "Slideshow",
  "kernelspec": {
   "display_name": "Python 3",
   "language": "python",
   "name": "python3"
  },
  "language_info": {
   "codemirror_mode": {
    "name": "ipython",
    "version": 3
   },
   "file_extension": ".py",
   "mimetype": "text/x-python",
   "name": "python",
   "nbconvert_exporter": "python",
   "pygments_lexer": "ipython3",
   "version": "3.9.1"
  }
 },
 "nbformat": 4,
 "nbformat_minor": 2
}
