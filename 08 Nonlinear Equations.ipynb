{
 "cells": [
  {
   "cell_type": "markdown",
   "metadata": {},
   "source": [
    "<h1 align=\"center\"> Computation for Physicists </h1>\n",
    "<h2 align=\"center\"> <em>Nonlinear Equations</em> </h2>\n",
    "<h2 align=\"center\" > <a href=\"mailto:duan@unm.edu\">Dr. Duan</a> (UNM) </h2>"
   ]
  },
  {
   "cell_type": "markdown",
   "metadata": {
    "slideshow": {
     "slide_type": "slide"
    }
   },
   "source": [
    "# Eigenvalues and Eigenvectors\n",
    "\n",
    "- Eigenvalues are usually obtained through iterative processes. \n",
    "\n",
    "- The eigenvector of matrix $\\mathbf{A}$ that corresponds to its eigenvalue of the largest magnitude can be obtained by power iteration.\n",
    "\n",
    "- Shifting the matrix by a multiple of the identity matrix can be useful.\n",
    "\n",
    "- QR iteration can be used to obtain all the eigenvalues simultaneously. It usually takes more resources to obtain the eigenvectors.\n",
    "\n",
    "- The SVD of matrix $\\mathbf{A}$ is related to the eigensystem of $\\mathbf{A}^\\dagger\\mathbf{A}$ and $\\mathbf{A}\\mathbf{A}^\\dagger$."
   ]
  },
  {
   "cell_type": "markdown",
   "metadata": {
    "slideshow": {
     "slide_type": "slide"
    }
   },
   "source": [
    "# Homework\n",
    "\n",
    "- The roots of the monic polynomial $p(t)=c_0 + c_1 t + \\cdots + c_{n-1} t^{n-1} + t^n$ are the same as the eigenvalues of its companion matrix\n",
    "$$C(p) = \\begin{bmatrix}\n",
    "0 & 0 & \\cdots & 0 & -c_0 \\\\\n",
    "1 & 0 & \\cdots & 0 & -c_1 \\\\\n",
    "0 & 1 & \\cdots & 0 & -c_2 \\\\\n",
    "\\vdots & \\vdots & \\ddots & \\vdots & \\vdots \\\\\n",
    "0 & 0 & \\cdots & 1 & -c_{n-1}\n",
    "\\end{bmatrix}.$$\n",
    "\n",
    "- Define class `Polynomial` to generate callable objects that produce the function values of polynomials. A `Polynomial` object is inialized by the coefficients of the polynomial, and it has a method `roots()` to compute the roots of the polynomial. Document and validate your code."
   ]
  },
  {
   "cell_type": "code",
   "execution_count": 1,
   "metadata": {
    "slideshow": {
     "slide_type": "subslide"
    }
   },
   "outputs": [
    {
     "data": {
      "image/png": "[encoded data removed]",
      "text/plain": [
       "<Figure size 432x288 with 1 Axes>"
      ]
     },
     "metadata": {
      "needs_background": "light"
     },
     "output_type": "display_data"
    }
   ],
   "source": [
    "import numpy as np\n",
    "import matplotlib.pyplot as plt\n",
    "import homework.hw7 as hw7\n",
    "\n",
    "x = np.linspace(-1,1)\n",
    "plt.plot(x, hw7.Polynomial([-0.5,0,1])(x)) # plot f(x)= x**2 - 1/2\n",
    "plt.show()"
   ]
  },
  {
   "cell_type": "code",
   "execution_count": 2,
   "metadata": {
    "scrolled": false,
    "slideshow": {
     "slide_type": "subslide"
    }
   },
   "outputs": [],
   "source": [
    "from numpy.random import random\n",
    "\n",
    "f = hw7.Polynomial(random(10)*10-5)"
   ]
  },
  {
   "cell_type": "code",
   "execution_count": 3,
   "metadata": {
    "slideshow": {
     "slide_type": "-"
    }
   },
   "outputs": [
    {
     "data": {
      "text/plain": [
       "{'coe': array([-3.08714397, -3.23029421,  0.09303485,  0.95596786, -4.96265465,\n",
       "         4.94929922,  3.74300035,  4.33098943,  4.39391794,  1.86987376])}"
      ]
     },
     "execution_count": 3,
     "metadata": {},
     "output_type": "execute_result"
    }
   ],
   "source": [
    "f.__dict__"
   ]
  },
  {
   "cell_type": "code",
   "execution_count": 4,
   "metadata": {
    "slideshow": {
     "slide_type": "-"
    }
   },
   "outputs": [
    {
     "data": {
      "text/plain": [
       "array([ 0.87763447+0.j        ,  0.48710291+0.74551912j,\n",
       "        0.48710291-0.74551912j,  0.04398933+1.28009049j,\n",
       "        0.04398933-1.28009049j, -0.56462971+0.37263273j,\n",
       "       -0.56462971-0.37263273j, -1.58020345+0.81375162j,\n",
       "       -1.58020345-0.81375162j])"
      ]
     },
     "execution_count": 4,
     "metadata": {},
     "output_type": "execute_result"
    }
   ],
   "source": [
    "f.roots()"
   ]
  },
  {
   "cell_type": "code",
   "execution_count": 5,
   "metadata": {
    "slideshow": {
     "slide_type": "-"
    }
   },
   "outputs": [
    {
     "data": {
      "text/plain": [
       "array([5.87307980e-14, 1.26048212e-14, 1.26048212e-14, 2.13754120e-13,\n",
       "       2.13754120e-13, 1.73481021e-15, 1.73481021e-15, 1.79754674e-13,\n",
       "       1.79754674e-13])"
      ]
     },
     "execution_count": 5,
     "metadata": {},
     "output_type": "execute_result"
    }
   ],
   "source": [
    "np.abs(f(f.roots()))"
   ]
  },
  {
   "cell_type": "markdown",
   "metadata": {
    "slideshow": {
     "slide_type": "slide"
    }
   },
   "source": [
    "# Nonlinear Equations\n",
    "\n",
    "- A nonlinear equation $f(x)=0$ can have 0 to infinite number of solutions.\n",
    "\n",
    "- If $f(x_*)=f'(x_*)=\\cdots=f^{(m-1)}(x_*)=0$ but $f^{(m)}(x_*)\\neq0$, then $x_*$ is a root to $f(x)$ of _multiplicity_ $m$. A root of multiplicity 1 is called a _simple root_.\n",
    "\n",
    "- The condition number of the root finding problem $f(x)=0$ is $|1/f'(x_*)|$. Therefore, a multiple-root problem is ill-conditioned, i.e. $|f(\\hat{x})|\\approx0$ does not guarantee that $\\hat{x}\\approx x_*$.\n",
    "\n",
    "- [`scipy.optimize.root_scalar()`](https://docs.scipy.org/doc/scipy/reference/generated/scipy.optimize.root_scalar.html)implements several methods for finding the roots of a nonlinear function."
   ]
  },
  {
   "cell_type": "markdown",
   "metadata": {
    "slideshow": {
     "slide_type": "slide"
    }
   },
   "source": [
    "# Convergence Rate\n",
    "\n",
    "- If $$\\lim_{k\\rightarrow\\infty}\\frac{|\\epsilon_{k+1}|}{|\\epsilon_k|^r} = C$$\n",
    "in an algorithm,\n",
    "where $\\epsilon_k = x_k - x_*$ is the error of the approximate solution $x_k$ in the $k$th iteration, and $C$ is a nonzero constant, then the algorithm has a convergence rate of $r$.\n",
    "\n",
    "- An algorithm converges linearly if $r=1$ and $C<1$. A fixed number of correct digits is gained in each iteration.\n",
    "\n",
    "- An algorithm converges superlinearly if $r>1$. In particular, an algorithm of the quadratic convergence rate has $r=2$."
   ]
  },
  {
   "cell_type": "markdown",
   "metadata": {
    "slideshow": {
     "slide_type": "slide"
    }
   },
   "source": [
    "# Bisection Method\n",
    "\n",
    "- A continuous function $f(x)$ always has a root in $[a, b]$ if $f(a)f(b)<0$. \n",
    "\n",
    "- The _bisection_ method repeatedly halves the bracket and keeps the root in the bracket until the size of the bracket is less than the specified error tolerance. It is guaranteed to converge but slowly ($r=1$ and $C=0.5$)."
   ]
  },
  {
   "cell_type": "code",
   "execution_count": 6,
   "metadata": {
    "slideshow": {
     "slide_type": "fragment"
    }
   },
   "outputs": [
    {
     "data": {
      "text/plain": [
       "1.0000000000002274"
      ]
     },
     "execution_count": 6,
     "metadata": {},
     "output_type": "execute_result"
    }
   ],
   "source": [
    "from scipy.optimize import root_scalar\n",
    "f = lambda x: x**2 - 1.0\n",
    "sol = root_scalar(f, bracket=[0, 10], method='bisect')\n",
    "sol.root"
   ]
  },
  {
   "cell_type": "code",
   "execution_count": 7,
   "metadata": {},
   "outputs": [
    {
     "data": {
      "text/plain": [
       "      converged: True\n",
       "           flag: 'converged'\n",
       " function_calls: 45\n",
       "     iterations: 43\n",
       "           root: 1.0000000000002274"
      ]
     },
     "execution_count": 7,
     "metadata": {},
     "output_type": "execute_result"
    }
   ],
   "source": [
    "sol"
   ]
  },
  {
   "cell_type": "markdown",
   "metadata": {
    "slideshow": {
     "slide_type": "slide"
    }
   },
   "source": [
    "# Newton's Method\n",
    "\n",
    "- _Newton's method_ requires the knowledge of $f'(x)$ and approximates the nonlinear function as a linear function:\n",
    "$$ f(x_k) \\approx f(x_*) + f'(x_*)(x_k - x_*)\n",
    "\\quad\\Longrightarrow\\quad\n",
    "x_{k+1} = x_k - \\frac{f(x_k)}{f'(x_{k})}.$$\n",
    "\n",
    "- Newton's method converges quadratically if starting from a point close enough to the root."
   ]
  },
  {
   "cell_type": "code",
   "execution_count": 10,
   "metadata": {
    "scrolled": true,
    "slideshow": {
     "slide_type": "fragment"
    }
   },
   "outputs": [
    {
     "data": {
      "text/plain": [
       "      converged: True\n",
       "           flag: 'converged'\n",
       " function_calls: 16\n",
       "     iterations: 8\n",
       "           root: 1.0"
      ]
     },
     "execution_count": 10,
     "metadata": {},
     "output_type": "execute_result"
    }
   ],
   "source": [
    "dfdx = lambda x: 2.0*x # derivative of f\n",
    "root_scalar(f, x0=0.1, fprime = dfdx, method='newton')"
   ]
  },
  {
   "cell_type": "markdown",
   "metadata": {
    "slideshow": {
     "slide_type": "slide"
    }
   },
   "source": [
    "# Secant Method \n",
    "\n",
    "- _Secant method_ does not require $f'(x)$ but approximates it by finite difference:\n",
    "$$x_{k+1}=x_k - \\frac{f(x_k)}{[f(x_k)-f(x_{k-1})]/(x_k-x_{k-1})}.$$\n",
    "\n",
    "- Secant method converges superlinearly with $r\\approx1.6$."
   ]
  },
  {
   "cell_type": "code",
   "execution_count": 11,
   "metadata": {
    "slideshow": {
     "slide_type": "fragment"
    }
   },
   "outputs": [
    {
     "data": {
      "text/plain": [
       "      converged: True\n",
       "           flag: 'converged'\n",
       " function_calls: 14\n",
       "     iterations: 13\n",
       "           root: 1.0"
      ]
     },
     "execution_count": 11,
     "metadata": {},
     "output_type": "execute_result"
    }
   ],
   "source": [
    "root_scalar(f, x0=0., x1=0.1, method='secant')"
   ]
  },
  {
   "cell_type": "markdown",
   "metadata": {
    "slideshow": {
     "slide_type": "slide"
    }
   },
   "source": [
    "# Hybrid Methods\n",
    "\n",
    "- Bisection method is safe but slow, and Newton's and Secant methods are fast but may not converge unless they start from close to the root. Hybrid methods combine two kinds of methods to achieve both reliability and efficiency.\n",
    "\n",
    "- The most recommend method in `scipy.optimize` is `brentq`."
   ]
  },
  {
   "cell_type": "code",
   "execution_count": 12,
   "metadata": {
    "scrolled": true,
    "slideshow": {
     "slide_type": "fragment"
    }
   },
   "outputs": [
    {
     "data": {
      "text/plain": [
       "      converged: True\n",
       "           flag: 'converged'\n",
       " function_calls: 14\n",
       "     iterations: 13\n",
       "           root: 1.0000000000002276"
      ]
     },
     "execution_count": 12,
     "metadata": {},
     "output_type": "execute_result"
    }
   ],
   "source": [
    "root_scalar(f, bracket=[0, 10], method='brentq')"
   ]
  },
  {
   "cell_type": "markdown",
   "metadata": {
    "slideshow": {
     "slide_type": "slide"
    }
   },
   "source": [
    "# Fixed-Point Iteration\n",
    "\n",
    "- The _fixed point_ $x_*$ of function $g(x)$ satisfies $x_*=g(x_*)$.\n",
    "\n",
    "- _Fixed-point iteration_ $x_{k+1}=g(x_k)$ can be used to find $x_*$. \n",
    "\n",
    "- If $|g'(x_*)|<1$, then there exists an interval around $x_*$ that the iteration can converges (linearly if $|g'(x_*)|>0$ or at least quadratically if $g'(x_*)=0$).\n",
    "\n",
    "- [`scipy.optimize.fixed_point()`](https://docs.scipy.org/doc/scipy/reference/generated/scipy.optimize.fixed_point.html) can be used to find a fixed point of a function."
   ]
  },
  {
   "cell_type": "code",
   "execution_count": 13,
   "metadata": {
    "slideshow": {
     "slide_type": "fragment"
    }
   },
   "outputs": [
    {
     "data": {
      "text/plain": [
       "array(-1.)"
      ]
     },
     "execution_count": 13,
     "metadata": {},
     "output_type": "execute_result"
    }
   ],
   "source": [
    "from scipy.optimize import fixed_point\n",
    "g = lambda x: f(x) + x\n",
    "fixed_point(g, 0.1)"
   ]
  },
  {
   "cell_type": "code",
   "execution_count": 14,
   "metadata": {
    "slideshow": {
     "slide_type": "subslide"
    }
   },
   "outputs": [
    {
     "ename": "RuntimeError",
     "evalue": "Failed to converge after 500 iterations, value is -1.0297426020639704",
     "output_type": "error",
     "traceback": [
      "\u001b[0;31m---------------------------------------------------------------------------\u001b[0m",
      "\u001b[0;31mRuntimeError\u001b[0m                              Traceback (most recent call last)",
      "\u001b[0;32m<ipython-input-14-3f9315169044>\u001b[0m in \u001b[0;36m<module>\u001b[0;34m\u001b[0m\n\u001b[0;32m----> 1\u001b[0;31m \u001b[0mfixed_point\u001b[0m\u001b[0;34m(\u001b[0m\u001b[0mg\u001b[0m\u001b[0;34m,\u001b[0m \u001b[0;36m0.1\u001b[0m\u001b[0;34m,\u001b[0m \u001b[0mmethod\u001b[0m\u001b[0;34m=\u001b[0m\u001b[0;34m'iteration'\u001b[0m\u001b[0;34m)\u001b[0m \u001b[0;31m# simple iteration fails because g'(1) > 1\u001b[0m\u001b[0;34m\u001b[0m\u001b[0;34m\u001b[0m\u001b[0m\n\u001b[0m",
      "\u001b[0;32m/usr/local/lib/python3.9/site-packages/scipy/optimize/minpack.py\u001b[0m in \u001b[0;36mfixed_point\u001b[0;34m(func, x0, args, xtol, maxiter, method)\u001b[0m\n\u001b[1;32m    935\u001b[0m     \u001b[0muse_accel\u001b[0m \u001b[0;34m=\u001b[0m \u001b[0;34m{\u001b[0m\u001b[0;34m'del2'\u001b[0m\u001b[0;34m:\u001b[0m \u001b[0;32mTrue\u001b[0m\u001b[0;34m,\u001b[0m \u001b[0;34m'iteration'\u001b[0m\u001b[0;34m:\u001b[0m \u001b[0;32mFalse\u001b[0m\u001b[0;34m}\u001b[0m\u001b[0;34m[\u001b[0m\u001b[0mmethod\u001b[0m\u001b[0;34m]\u001b[0m\u001b[0;34m\u001b[0m\u001b[0;34m\u001b[0m\u001b[0m\n\u001b[1;32m    936\u001b[0m     \u001b[0mx0\u001b[0m \u001b[0;34m=\u001b[0m \u001b[0m_asarray_validated\u001b[0m\u001b[0;34m(\u001b[0m\u001b[0mx0\u001b[0m\u001b[0;34m,\u001b[0m \u001b[0mas_inexact\u001b[0m\u001b[0;34m=\u001b[0m\u001b[0;32mTrue\u001b[0m\u001b[0;34m)\u001b[0m\u001b[0;34m\u001b[0m\u001b[0;34m\u001b[0m\u001b[0m\n\u001b[0;32m--> 937\u001b[0;31m     \u001b[0;32mreturn\u001b[0m \u001b[0m_fixed_point_helper\u001b[0m\u001b[0;34m(\u001b[0m\u001b[0mfunc\u001b[0m\u001b[0;34m,\u001b[0m \u001b[0mx0\u001b[0m\u001b[0;34m,\u001b[0m \u001b[0margs\u001b[0m\u001b[0;34m,\u001b[0m \u001b[0mxtol\u001b[0m\u001b[0;34m,\u001b[0m \u001b[0mmaxiter\u001b[0m\u001b[0;34m,\u001b[0m \u001b[0muse_accel\u001b[0m\u001b[0;34m)\u001b[0m\u001b[0;34m\u001b[0m\u001b[0;34m\u001b[0m\u001b[0m\n\u001b[0m",
      "\u001b[0;32m/usr/local/lib/python3.9/site-packages/scipy/optimize/minpack.py\u001b[0m in \u001b[0;36m_fixed_point_helper\u001b[0;34m(func, x0, args, xtol, maxiter, use_accel)\u001b[0m\n\u001b[1;32m    889\u001b[0m         \u001b[0mp0\u001b[0m \u001b[0;34m=\u001b[0m \u001b[0mp\u001b[0m\u001b[0;34m\u001b[0m\u001b[0;34m\u001b[0m\u001b[0m\n\u001b[1;32m    890\u001b[0m     \u001b[0mmsg\u001b[0m \u001b[0;34m=\u001b[0m \u001b[0;34m\"Failed to converge after %d iterations, value is %s\"\u001b[0m \u001b[0;34m%\u001b[0m \u001b[0;34m(\u001b[0m\u001b[0mmaxiter\u001b[0m\u001b[0;34m,\u001b[0m \u001b[0mp\u001b[0m\u001b[0;34m)\u001b[0m\u001b[0;34m\u001b[0m\u001b[0;34m\u001b[0m\u001b[0m\n\u001b[0;32m--> 891\u001b[0;31m     \u001b[0;32mraise\u001b[0m \u001b[0mRuntimeError\u001b[0m\u001b[0;34m(\u001b[0m\u001b[0mmsg\u001b[0m\u001b[0;34m)\u001b[0m\u001b[0;34m\u001b[0m\u001b[0;34m\u001b[0m\u001b[0m\n\u001b[0m\u001b[1;32m    892\u001b[0m \u001b[0;34m\u001b[0m\u001b[0m\n\u001b[1;32m    893\u001b[0m \u001b[0;34m\u001b[0m\u001b[0m\n",
      "\u001b[0;31mRuntimeError\u001b[0m: Failed to converge after 500 iterations, value is -1.0297426020639704"
     ]
    }
   ],
   "source": [
    "fixed_point(g, 0.1, method='iteration') # simple iteration fails because g'(1) > 1"
   ]
  },
  {
   "cell_type": "markdown",
   "metadata": {
    "slideshow": {
     "slide_type": "slide"
    }
   },
   "source": [
    "# Systems of Nonlinear Equations\n",
    "\n",
    "- Solving nonlinear system $\\mathbf{f}(\\mathbf{x})=\\mathbf{0}$ is much more difficult than solving a single nonlinear equation. There is no simply way to guarantee the convergence.\n",
    "\n",
    "- Fixed-point iteration can still be used.\n"
   ]
  },
  {
   "cell_type": "code",
   "execution_count": 15,
   "metadata": {
    "slideshow": {
     "slide_type": "fragment"
    }
   },
   "outputs": [
    {
     "data": {
      "text/plain": [
       "array([1.4920333 , 1.37228132])"
      ]
     },
     "execution_count": 15,
     "metadata": {},
     "output_type": "execute_result"
    }
   ],
   "source": [
    "def func(x, c1, c2): # example from SciPy\n",
    "   return np.sqrt(c1/(x+c2))\n",
    "c1 = np.array([10,12.])\n",
    "c2 = np.array([3, 5.])\n",
    "sol = fixed_point(func, x0=[1.2, 1.3], args=(c1,c2))\n",
    "sol"
   ]
  },
  {
   "cell_type": "code",
   "execution_count": 16,
   "metadata": {
    "slideshow": {
     "slide_type": "fragment"
    }
   },
   "outputs": [
    {
     "data": {
      "text/plain": [
       "True"
      ]
     },
     "execution_count": 16,
     "metadata": {},
     "output_type": "execute_result"
    }
   ],
   "source": [
    "np.allclose(sol, func(sol, c1, c2))"
   ]
  },
  {
   "cell_type": "markdown",
   "metadata": {
    "slideshow": {
     "slide_type": "subslide"
    }
   },
   "source": [
    "- Newton's method becomes \n",
    "$$\\mathbf{x}_{k+1}=\\mathbf{x}_{k} - \\mathbf{J}^{-1}(\\mathbf{x}_{k})\\mathbf{f}(\\mathbf{x}_{k}),$$ \n",
    "where $\\mathbf{J}(\\mathbf{x}_{k})$ is the Jacobian matrix with the elements $J_{ij}=\\partial f_i / \\partial x_j$. In practice, one solves the _Newton step_ $\\mathbf{s}_{k}=\\mathbf{x}_{k+1}-\\mathbf{x}_{k}$ from \n",
    "$$\\mathbf{J}(\\mathbf{x}_{k})\\mathbf{s}_k = \\mathbf{f}(\\mathbf{x}_{k}).$$\n",
    "\n",
    "- _Broyden's method_ approximates the Jacobian with $\\mathbf{B}_{k}$ (with the least change) that satisfies the equation \n",
    "$$\\mathbf{B}_{k}(\\mathbf{x}_{k}-\\mathbf{x}_{k-1})=\\mathbf{f}(\\mathbf{x}_{k})-\\mathbf{f}(\\mathbf{x}_{k-1}).$$\n",
    "\n",
    "- [`scipy.optimize.root()`](https://docs.scipy.org/doc/scipy/reference/generated/scipy.optimize.root.html) implements several methods to solve nonlinear systems."
   ]
  },
  {
   "cell_type": "code",
   "execution_count": 17,
   "metadata": {
    "scrolled": true,
    "slideshow": {
     "slide_type": "subslide"
    }
   },
   "outputs": [
    {
     "data": {
      "text/plain": [
       "     fun: array([ 1.70637870e-06, -2.03374617e-06])\n",
       " message: 'A solution was found at the specified tolerance.'\n",
       "     nit: 8\n",
       "  status: 1\n",
       " success: True\n",
       "       x: array([1.49203184, 1.37228316])"
      ]
     },
     "execution_count": 17,
     "metadata": {},
     "output_type": "execute_result"
    }
   ],
   "source": [
    "from scipy.optimize import root\n",
    "\n",
    "g = lambda x: func(x, c1, c2) - x\n",
    "root(g, x0=[0,0], method='broyden1')"
   ]
  },
  {
   "cell_type": "code",
   "execution_count": 18,
   "metadata": {
    "scrolled": true,
    "slideshow": {
     "slide_type": "subslide"
    }
   },
   "outputs": [
    {
     "data": {
      "text/plain": [
       "    fjac: array([[-0.99985257, -0.01717103],\n",
       "       [ 0.01717103, -0.99985257]])\n",
       "     fun: array([ 1.45394807e-12, -9.99200722e-13])\n",
       " message: 'The solution converged.'\n",
       "    nfev: 9\n",
       "     qtf: array([-1.11564245e-08,  7.94927243e-09])\n",
       "       r: array([ 1.13783213, -0.02000263,  1.13534629])\n",
       "  status: 1\n",
       " success: True\n",
       "       x: array([1.4920333 , 1.37228132])"
      ]
     },
     "execution_count": 18,
     "metadata": {},
     "output_type": "execute_result"
    }
   ],
   "source": [
    "root(g, x0=[0,0]) # default to 'hybr' method"
   ]
  },
  {
   "cell_type": "markdown",
   "metadata": {
    "slideshow": {
     "slide_type": "slide"
    }
   },
   "source": [
    "# Packing/Unpacking Function Arguments\n",
    "- Use tuple and dictionary to pass multiple arguments."
   ]
  },
  {
   "cell_type": "code",
   "execution_count": 19,
   "metadata": {},
   "outputs": [
    {
     "name": "stdout",
     "output_type": "stream",
     "text": [
      "f(x=1, y=2, z=3)\n"
     ]
    }
   ],
   "source": [
    "def f(x, y, z):\n",
    "    print(f'f(x={x}, y={y}, z={z})')\n",
    "    \n",
    "args = 2, 3\n",
    "f(1, *args) # Use * to unpack tuple"
   ]
  },
  {
   "cell_type": "code",
   "execution_count": 20,
   "metadata": {
    "slideshow": {
     "slide_type": "fragment"
    }
   },
   "outputs": [
    {
     "name": "stdout",
     "output_type": "stream",
     "text": [
      "f(x=2, y=3, z=1)\n"
     ]
    }
   ],
   "source": [
    "kargs = {'z': 1}\n",
    "f(*args, **kargs) # use ** to unpack dict"
   ]
  },
  {
   "cell_type": "markdown",
   "metadata": {
    "slideshow": {
     "slide_type": "subslide"
    }
   },
   "source": [
    "- Use `*` and `**` to collect the optional arguments without and with keys."
   ]
  },
  {
   "cell_type": "code",
   "execution_count": 21,
   "metadata": {},
   "outputs": [],
   "source": [
    "def g(a, *args, **kargs): # a is required\n",
    "    l = [str(a)] # required arguments\n",
    "    l += [str(val) for val in args] # optional positional arguments\n",
    "    l += [f'{key}={val}' for key, val in kargs.items()] # optional args with keys\n",
    "    print('g(' + ', '.join(l) + ')')"
   ]
  },
  {
   "cell_type": "code",
   "execution_count": 22,
   "metadata": {
    "slideshow": {
     "slide_type": "fragment"
    }
   },
   "outputs": [
    {
     "name": "stdout",
     "output_type": "stream",
     "text": [
      "g(2)\n",
      "g(2, 3, 4)\n",
      "g(2, 3, x=5, y=6)\n"
     ]
    }
   ],
   "source": [
    "g(2)\n",
    "g(2, 3, 4)\n",
    "g(2, 3, x=5, y=6)"
   ]
  },
  {
   "cell_type": "markdown",
   "metadata": {
    "slideshow": {
     "slide_type": "slide"
    }
   },
   "source": [
    "# Homework\n",
    "\n",
    "- Utilize `scipy.optimize.root()` to implement a function that computes the inverse of an arbitrary square matrix.\n",
    "\n",
    "- Hint: Use the `reshape()` method of the NumPy array to reshape a matrix into a vector and vice versa."
   ]
  }
 ],
 "metadata": {
  "celltoolbar": "Slideshow",
  "kernelspec": {
   "display_name": "Python 3",
   "language": "python",
   "name": "python3"
  },
  "language_info": {
   "codemirror_mode": {
    "name": "ipython",
    "version": 3
   },
   "file_extension": ".py",
   "mimetype": "text/x-python",
   "name": "python",
   "nbconvert_exporter": "python",
   "pygments_lexer": "ipython3",
   "version": "3.9.1"
  }
 },
 "nbformat": 4,
 "nbformat_minor": 2
}
